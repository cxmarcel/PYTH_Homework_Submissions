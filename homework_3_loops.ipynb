{
 "cells": [
  {
   "cell_type": "markdown",
   "metadata": {
    "id": "kIVdBbNxdYtS"
   },
   "source": [
    "<a href=\"https://colab.research.google.com/github/mottaquikarim/PYTH2/blob/master/src/PSETS/nb/homework_3_loops.ipynb\" target=\"_parent\"><img src=\"https://colab.research.google.com/assets/colab-badge.svg\" alt=\"Open In Colab\"/></a>"
   ]
  },
  {
   "cell_type": "markdown",
   "metadata": {
    "id": "Hgl-OMrpdYtT"
   },
   "source": [
    "#  LOOPS\n",
    "\n",
    "## LOOP_BASICS\n",
    "\n",
    "### P1.PY\n",
    "\n",
    "\n"
   ]
  },
  {
   "cell_type": "code",
   "execution_count": 8,
   "metadata": {
    "id": "PVPyO7aJdYtT"
   },
   "outputs": [
    {
     "data": {
      "text/plain": [
       "'\\nOdds & Evens\\n'"
      ]
     },
     "execution_count": 8,
     "metadata": {},
     "output_type": "execute_result"
    }
   ],
   "source": [
    "#Q1\n",
    "\"\"\"\n",
    "Odds & Evens\n",
    "\"\"\"\n",
    "\n",
    "# Use a loop to make a list of all odd numbers between 1 and 10 and another list with all the evens. \n",
    "#When done, print the lists.\n",
    "\n",
    "    \n",
    "\n",
    "# odds =\n",
    "\n",
    "# evens =\n",
    "\n"
   ]
  },
  {
   "cell_type": "code",
   "execution_count": 9,
   "metadata": {},
   "outputs": [
    {
     "name": "stdout",
     "output_type": "stream",
     "text": [
      "loop 1: [1]\n",
      "loop 2: [2]\n",
      "loop 3: [1, 3]\n",
      "loop 4: [2, 4]\n",
      "loop 5: [1, 3, 5]\n",
      "loop 6: [2, 4, 6]\n",
      "loop 7: [1, 3, 5, 7]\n",
      "loop 8: [2, 4, 6, 8]\n",
      "loop 9: [1, 3, 5, 7, 9]\n",
      "\n",
      "final result - odds: [1, 3, 5, 7, 9]\n",
      "final result - evens: [2, 4, 6, 8]\n"
     ]
    }
   ],
   "source": [
    "#CM Answer to Q1\n",
    "\n",
    "#Step 1: declare empty lists to which we will append digits \n",
    "\n",
    "odds = []\n",
    "evens = []\n",
    "\n",
    "#Step 2: create for loop that will go through the range 1-9 \n",
    "\n",
    "for i in range(1,10):\n",
    "#Step 3: if statement that says if the mod of i%2 does not equal to 0 then add it to the odds list\n",
    "#        else, append it to the evens list. \n",
    "#Note: using print statements to keep track of list results \n",
    "    if i%2 != 0:\n",
    "        odds.append(i)\n",
    "        print(f'loop {i}: {odds}')\n",
    "    else:\n",
    "        evens.append(i)\n",
    "        print(f'loop {i}: {evens}')\n",
    "\n",
    "#Step 4: Final print results \n",
    "print(f'\\nfinal result - odds: {odds}')\n",
    "print(f'final result - evens: {evens}')"
   ]
  },
  {
   "cell_type": "markdown",
   "metadata": {
    "id": "XXXHcQ_ZdYtU"
   },
   "source": [
    "\n",
    "\n",
    "### P2.PY\n",
    "\n",
    "\n"
   ]
  },
  {
   "cell_type": "code",
   "execution_count": 10,
   "metadata": {
    "id": "d20jfs_KdYtU"
   },
   "outputs": [],
   "source": [
    "#Q2\n",
    "\"\"\"\n",
    "Lists with Duplicates\n",
    "\"\"\"\n",
    "\n",
    "# First, print list a below as it is now.\n",
    "\n",
    "a = [2, 4, 10, 20, 5, 2, 20, 4]\n",
    "b = [13, 2, 25, 20, 4, 8]\n",
    "\n",
    "# Using a loop, remove the duplicate items from list a and print out the updated list.\n",
    "\n",
    "\n",
    "# Using a loop, merge list b into list a without adding any duplicates."
   ]
  },
  {
   "cell_type": "code",
   "execution_count": 11,
   "metadata": {},
   "outputs": [
    {
     "name": "stdout",
     "output_type": "stream",
     "text": [
      "a = [2, 4, 10, 20, 5, 2, 20, 4]\n",
      "b = [13, 2, 25, 20, 4, 8]\n",
      "List with duplicates removed: [2, 4, 10, 20, 5]\n",
      "List with duplicates removed: [2, 4, 10, 20, 5, 13, 25, 8]\n"
     ]
    }
   ],
   "source": [
    "#CM Answer to Q2\n",
    "\n",
    "#Step 1\n",
    "print(f'a = {a}')\n",
    "print(f'b = {b}')\n",
    "\n",
    "\n",
    "# Step 2: \n",
    "#declare a a_deduped list \n",
    "a_deduped = []\n",
    "\n",
    "# Using a loop, remove the duplicate items from list a and print out the updated list.\n",
    "for ele in a:\n",
    "    # Check if the item is not in the a_deduped\n",
    "    if ele not in a_deduped:\n",
    "        a_deduped.append(ele)\n",
    "     #if it is in the deduped list then do NOT add it, making sure the elements are unique    \n",
    "\n",
    "# Print the deduped list\n",
    "print(f'List with duplicates removed: {a_deduped}')\n",
    "\n",
    "#Step 3: same idea as above for list b \n",
    "\n",
    "# Using a loop, merge list b into list a without adding any duplicates.\n",
    "for ele in b:\n",
    "    # Check if the item is not in the a_deduped\n",
    "    if ele not in a_deduped:\n",
    "        a_deduped.append(ele)\n",
    "print(f'List with duplicates removed: {a_deduped}')\n",
    "        \n"
   ]
  },
  {
   "cell_type": "markdown",
   "metadata": {
    "id": "fB6mqst1dYtU"
   },
   "source": [
    "\n",
    "\n",
    "### P3.PY\n",
    "\n",
    "\n"
   ]
  },
  {
   "cell_type": "code",
   "execution_count": 13,
   "metadata": {
    "id": "RLDCNE_HdYtU"
   },
   "outputs": [],
   "source": [
    "#Q3\n",
    "\"\"\"\n",
    "Temperature Conversions\n",
    "\"\"\"\n",
    "\n",
    "# You're studying climate change, and over the last 3 years, you've recorded the \n",
    "#temperature at noon every day in degrees Fahrenheit (F). The var sampleF holds a portion of those recordings.\n",
    "\n",
    "sampleF = [71.6, 82.4, 91.4, 107.6, 125.6]\n",
    "\n",
    "# Convert each item in this list into degrees Celsius and add the results to a dict called sample_temps so that the conversion of each day's temperature is easily accessible. For reference, the conversion equation between F and C is:\n",
    "# Celsius = (Fahrenheit - 32) * 5.0/9.0\n",
    "\n"
   ]
  },
  {
   "cell_type": "code",
   "execution_count": 15,
   "metadata": {},
   "outputs": [
    {
     "name": "stdout",
     "output_type": "stream",
     "text": [
      "loop 1: ['22.00']\n",
      "loop 2: ['22.00', '28.00']\n",
      "loop 3: ['22.00', '28.00', '33.00']\n",
      "loop 4: ['22.00', '28.00', '33.00', '42.00']\n",
      "loop 5: ['22.00', '28.00', '33.00', '42.00', '52.00']\n",
      "\n",
      "dictionary: {71.6: '22.00', 82.4: '28.00', 91.4: '33.00', 107.6: '42.00', 125.6: '52.00'}\n"
     ]
    }
   ],
   "source": [
    "#CM Answer to Q3\n",
    "#declare empty celsius list \n",
    "sampleC = []\n",
    "\n",
    "for ele in sampleF:\n",
    "    #for each element in the Farenheit list, do the following computation \n",
    "    celsius = \"{:.2f}\".format((ele-32)*5/9)\n",
    "    #then append it to the celsius list \n",
    "    sampleC.append(celsius)\n",
    "    #print out result of each loop \n",
    "    print(f'loop {sampleF.index(ele)+1}: {sampleC}')\n",
    "\n",
    "#create dictionary using zip function \n",
    "dict_degrees = dict(zip(sampleF,sampleC))\n",
    "print(f'\\ndictionary: {dict_degrees}')\n"
   ]
  },
  {
   "cell_type": "markdown",
   "metadata": {
    "id": "d6RQ-VmidYtU"
   },
   "source": [
    "\n",
    "\n",
    "### P4.PY\n",
    "\n",
    "\n"
   ]
  },
  {
   "cell_type": "code",
   "execution_count": 16,
   "metadata": {
    "id": "4maarcvedYtV"
   },
   "outputs": [
    {
     "name": "stdout",
     "output_type": "stream",
     "text": [
      "Enter a number to find its factorial: 5\n"
     ]
    }
   ],
   "source": [
    "#Q4\n",
    "\"\"\"\n",
    "Factorial\n",
    "\"\"\"\n",
    "\n",
    "# Find the factorial of a number input by a user. \n",
    "#Then print out the factors within the factorial and then print out the actual numeric answer. \n",
    "#Hint: The formula for a factorial is n! = (n-1)*n.\n",
    "\n",
    "\n",
    "# Example output:\n",
    "\"\"\"\n",
    "8! = 8*7*6*5*4*3*2*1\n",
    "8! = 40320\n",
    "\"\"\"\n",
    "\n",
    "user_input = input('Enter a number to find its factorial: ')"
   ]
  },
  {
   "cell_type": "code",
   "execution_count": 20,
   "metadata": {},
   "outputs": [
    {
     "name": "stdout",
     "output_type": "stream",
     "text": [
      "First Loop, getting the factors: loop 1: [4]\n",
      "First Loop, getting the factors: loop 2: [4, 3]\n",
      "First Loop, getting the factors: loop 3: [4, 3, 2]\n",
      "First Loop, getting the factors: loop 4: [4, 3, 2, 1]\n",
      "Second Loop, multiplying: product: 1, element: 1\n",
      "Second Loop, multiplying: product: 4, element: 4\n",
      "Second Loop, multiplying: product: 12, element: 3\n",
      "Second Loop, multiplying: product: 24, element: 2\n",
      "Second Loop, multiplying: product: 24, element: 1\n",
      "\n",
      "Factorial of 5 = 24\n"
     ]
    }
   ],
   "source": [
    "#CM Answer to Q4\n",
    "#list of all the elements is equal to (number - 1), but want to stop before it gets to 0 bc then factorial will hit 0 \n",
    "\n",
    "\n",
    "#define the function, factorials, that takes in user_input as the input \n",
    "def factorials(user_input):\n",
    "    #convert this to an integer \n",
    "    a = int(user_input)\n",
    "    #declare empty list that will contain the factors that need to be multiplied later on \n",
    "    factors = []\n",
    "    #so we are doing while input != 1 bc if the input is 5 we want a = 5, a = 5-1 = 4, ..., until it gets to 1 because 1-1 - 0 which we don't want to include\n",
    "    while a != 1:\n",
    "        #subtract 1 on each loop \n",
    "        a -= 1\n",
    "        #and on each loop add that new number to the list of factors \n",
    "        factors.append(a)\n",
    "        #print so we can keep track \n",
    "        print(f'First Loop, getting the factors: loop {factors.index(a)+1}: {factors}')\n",
    "    #exit loop and insert the original number so we can have that as part of our factors as well \n",
    "    factors.insert(0, a)\n",
    "\n",
    "    product = 1 #initializing 1 (saw this tip on line to help me get started on this loop)\n",
    "    #new loop for actually multiplying all the elements \n",
    "    for ele in factors:\n",
    "        #for each factor in factors list, multiply by the element. \n",
    "        # we start at 1 and then it goes \n",
    "        # loop1 = product = 1*5\n",
    "        #loop2 = product = 5*4 .. and so on \n",
    "        product *= ele\n",
    "        #print product \n",
    "        print(f'Second Loop, multiplying: product: {product}, element: {ele}')\n",
    "    return print(f'\\nFactorial of {user_input} = {product}')\n",
    "\n",
    "\n",
    "factorials(user_input)\n"
   ]
  },
  {
   "cell_type": "markdown",
   "metadata": {
    "id": "PxZVfYhxdYtV"
   },
   "source": [
    "\n",
    "\n",
    "### P5.PY\n",
    "\n",
    "\n"
   ]
  },
  {
   "cell_type": "code",
   "execution_count": 21,
   "metadata": {
    "id": "CvEUjDLxdYtV"
   },
   "outputs": [
    {
     "name": "stdout",
     "output_type": "stream",
     "text": [
      "Enter a number to find its factors: 5\n"
     ]
    }
   ],
   "source": [
    "#Q5\n",
    "\"\"\"\n",
    "Factors\n",
    "\"\"\"\n",
    "\n",
    "# Find all factors of a number that a user inputs and print out 'The factors of <the_user_input_number> are: '.\n",
    "\n",
    "user_input = input('Enter a number to find its factors: ')\n"
   ]
  },
  {
   "cell_type": "code",
   "execution_count": 22,
   "metadata": {},
   "outputs": [
    {
     "name": "stdout",
     "output_type": "stream",
     "text": [
      "Loop 1: check: 5 mod 1 =  0\n",
      "Add 1 to factors = [1]\n",
      "\n",
      "Loop 2: check: 5 mod 2 =  1\n",
      "Loop 3: check: 5 mod 3 =  2\n",
      "Loop 4: check: 5 mod 4 =  1\n",
      "Loop 5: check: 5 mod 5 =  0\n",
      "Add 5 to factors = [1, 5]\n",
      "\n",
      "\n",
      "Factors for 5 =  {1, 5}\n"
     ]
    }
   ],
   "source": [
    "#CM Answer to Q5\n",
    "#declare an empty list for the factors \n",
    "\n",
    "#for loop that checks possible factors\n",
    "def list_factors (user_input):\n",
    "    factors = []\n",
    "    for i in range(1,int(user_input)+1):\n",
    "\n",
    "        #make user input an integer \n",
    "        user_input_int = int(user_input)\n",
    "\n",
    "        #only add numbers where the mod = 0 \n",
    "        check = user_input_int%i\n",
    "        print(f'Loop {i}: check: {user_input_int} mod {i} =  {check}')\n",
    "\n",
    "        # if mod = 0 then add that to factors list \n",
    "        if check == 0: \n",
    "            factors.append(i)\n",
    "            #print statement to keep track \n",
    "            print(f'Add {i} to factors = {factors}\\n')\n",
    "            #return only unique factors (in the case of 4, i don't want 2 to show up twice)\n",
    "            factors_unique = set(factors)\n",
    "\n",
    "        \n",
    "    print(f'\\nFactors for {user_input} =  {factors_unique}')\n",
    "\n",
    "list_factors(user_input)        \n",
    "    "
   ]
  },
  {
   "cell_type": "markdown",
   "metadata": {
    "id": "idA_o2WjdYtV"
   },
   "source": [
    "\n",
    "\n",
    "### P6.PY\n",
    "\n",
    "\n"
   ]
  },
  {
   "cell_type": "code",
   "execution_count": 23,
   "metadata": {
    "id": "xfxIaY8VdYtV"
   },
   "outputs": [
    {
     "name": "stdout",
     "output_type": "stream",
     "text": [
      "Enter two numbers to find their greatest common denominator.\n",
      "First number: 5\n",
      "Second number: 4\n"
     ]
    }
   ],
   "source": [
    "#Q6\n",
    "\"\"\"\n",
    "GCD\n",
    "\"\"\"\n",
    "\n",
    "# Find the greatest common denominator (GCD) of two number input by a user. Then print out 'The GCD of <first number> and <second number> is <your result>.'\n",
    "\n",
    "print('Enter two numbers to find their greatest common denominator.')\n",
    "\n",
    "user_input1 = input('First number: ')\n",
    "user_input2 = input('Second number: ')"
   ]
  },
  {
   "cell_type": "code",
   "execution_count": 24,
   "metadata": {},
   "outputs": [
    {
     "name": "stdout",
     "output_type": "stream",
     "text": [
      "\n",
      "Factors for 5 =  [1, 5]\n",
      "Factors for 4 =  [1, 2, 4]\n",
      "\n",
      "Greatest common denominator of 5 and 4 = 1\n"
     ]
    }
   ],
   "source": [
    "#CM Answer to Q6\n",
    "\n",
    "\n",
    "\n",
    "def gcd (user_input1, user_input2):\n",
    "    ##############################\n",
    "    #Step 1: Get factors for each input \n",
    "    factors1 = []\n",
    "    factors2 = []\n",
    "    #first loop: \n",
    "    #go through each element in this list to get factors for user_input1\n",
    "    for i in range(1,int(user_input1)+1):\n",
    "\n",
    "        #make user input an integer \n",
    "        user_input1_int = int(user_input1)\n",
    "        user_input2_int = int(user_input2)\n",
    "        #only add numbers where the mod = 0 \n",
    "        check1 = user_input1_int%i\n",
    "        # if mod = 0 then add that to factors list \n",
    "        if check1 == 0: \n",
    "            factors1.append(i)\n",
    "            #return only unique factors (in the case of 4, i don't want 2 to show up twice)\n",
    "            factors_unique1 = set(factors1)\n",
    "            unique_factors_list1 = []\n",
    "            unique_factors_list1 = list(factors_unique1)  \n",
    "\n",
    "    #go through each element in this list to get factors for user_input2\n",
    "    for j in range(1,int(user_input2)+1):\n",
    "\n",
    "        #make user input an integer \n",
    "        user_input2_int = int(user_input2)\n",
    "        #only add numbers where the mod = 0 \n",
    "        check2 = user_input2_int%j        \n",
    "\n",
    "        if check2 == 0 : \n",
    "            factors2.append(j)\n",
    "            #return only unique factors (in the case of 4, i don't want 2 to show up twice)\n",
    "            factors_unique2 = set(factors2) \n",
    "            unique_factors_list2 = []            \n",
    "            unique_factors_list2 = list(factors_unique2)\n",
    "            \n",
    "            \n",
    "    #now we have the factors for each input \n",
    "    print(f'\\nFactors for {user_input1} =  {unique_factors_list1}')\n",
    "    print(f'Factors for {user_input2} =  {unique_factors_list2}')\n",
    "\n",
    "    ##############################\n",
    "    #Step 2 \n",
    "    #declare an empty list x \n",
    "    x = []\n",
    "    #go through each factor in input1's factors and if it exists in input 2 append it to x\n",
    "    for i in unique_factors_list1:\n",
    "        if i in unique_factors_list2:\n",
    "            x.append(i)\n",
    "            i +=1\n",
    "\n",
    "    #go through each factor in input2's factors and if it exists in input1 append it to x\n",
    "    for j in unique_factors_list2:\n",
    "        # Check if the item is not in the a_deduped\n",
    "        if j in unique_factors_list1:\n",
    "            x.append(j)\n",
    "            j +=1\n",
    "    #create a set to remove duplicates. this will tell us what factors they have in common \n",
    "    y = set(x)\n",
    "    #take the max of this set to get the greatest common denominator \n",
    "    y_max = max(y)\n",
    "    print(f'\\nGreatest common denominator of {user_input1} and {user_input2} = {y_max}')\n",
    "        \n",
    "\n",
    "    \n",
    "\n",
    "\n",
    "gcd(user_input1, user_input2) \n",
    "\n",
    "\n",
    "\n",
    "        \n",
    "\n",
    "\n"
   ]
  },
  {
   "cell_type": "markdown",
   "metadata": {
    "id": "LiT_VM1PdYtV"
   },
   "source": [
    "\n",
    "\n",
    "## DICT_LOOPS\n",
    "\n",
    "### P1.PY\n",
    "\n",
    "\n"
   ]
  },
  {
   "cell_type": "code",
   "execution_count": 25,
   "metadata": {
    "id": "5p6X0cgrdYtV"
   },
   "outputs": [],
   "source": [
    "#Q1\n",
    "\"\"\"\n",
    "Contacts\n",
    "\"\"\"\n",
    "\n",
    "# You went to a conference and got people to sign up for text updates from your startup. \n",
    "# Go through this dict to make the phone numbers readable to a computer.\n",
    "\n",
    "# Hint: It can't include any non-numeric\n",
    "# characters.\n",
    "\n",
    "contacts = {\n",
    "\t'Jamie': '1.192.168.0143',\n",
    "\t'Kartik': '1.837.209.1121',\n",
    "\t'Grant': '1.826.386.1758',\n",
    "\t'Brandon': '1.935.297.9447',\n",
    "\t'Monique': '1.702.716.5353',\n",
    "\t'Sohom': '1.576.619.6100',\n",
    "}\n"
   ]
  },
  {
   "cell_type": "code",
   "execution_count": 26,
   "metadata": {},
   "outputs": [
    {
     "data": {
      "text/plain": [
       "{'Jamie': 11921680143,\n",
       " 'Kartik': 18372091121,\n",
       " 'Grant': 18263861758,\n",
       " 'Brandon': 19352979447,\n",
       " 'Monique': 17027165353,\n",
       " 'Sohom': 15766196100}"
      ]
     },
     "execution_count": 26,
     "metadata": {},
     "output_type": "execute_result"
    }
   ],
   "source": [
    "#CM Answer to Q1\n",
    "\n",
    "def replace_periods (contacts):\n",
    "    #get the phone numbers and put them in a list \n",
    "    phone_list = list(contacts.values())\n",
    "    #declare a new empty list new_list\n",
    "    new_list = []\n",
    "    #for loop that goes through each element in the phone_list\n",
    "    for ele in phone_list: \n",
    "        #make it a string and removes the period \n",
    "        ele_string = str(ele).replace('.','')\n",
    "        #then convert that back into an int and append that to new_list\n",
    "        new_list.append(int(ele_string))\n",
    "        #continue so that it keeps iterating through the phone_list\n",
    "        continue\n",
    "    #now get the contacts and create that as a list   \n",
    "    contacts_list = list(contacts.keys())    \n",
    "    #zip both lists to create a dictionary that the computer can now read \n",
    "    computer_compatible_dict = dict(zip(contacts_list,new_list))\n",
    "    #return the final dictionary \n",
    "    return computer_compatible_dict\n",
    "    \n",
    "\n",
    "\n",
    "replace_periods(contacts)\n",
    "    \n",
    "\n"
   ]
  },
  {
   "cell_type": "markdown",
   "metadata": {
    "id": "6CDVcIfJdYtV"
   },
   "source": [
    "\n",
    "\n",
    "### P2.PY\n",
    "\n",
    "\n"
   ]
  },
  {
   "cell_type": "code",
   "execution_count": 27,
   "metadata": {
    "id": "U39BAMKLdYtW"
   },
   "outputs": [],
   "source": [
    "#Q2\n",
    "\"\"\"\n",
    "Grades\n",
    "\"\"\"\n",
    "# Here's a dict containing students' grades from the semester's assignments.\n",
    "\n",
    "students = {\n",
    "  'Ashton': [86, 45, 98, 100],\n",
    "  'Sierra': [100, 100, 100, 100],\n",
    "  'Zach': [38, 49, 90, 87],\n",
    "  'Manuel': [98, 92, 86, 100],\n",
    "  'Felicia': [94, 87, 89, 95],\n",
    "  'Ankur': [75, 77, 77, 85],\n",
    "  'Ananya': [98, 94, 87, 92],\n",
    "  'Nick': [79, 84, 89, 90],\n",
    "  'Olivia': [83, 91, 69, 85],\n",
    "  'Molly': [83, 74, 72, 90]\n",
    "}\n",
    "\n"
   ]
  },
  {
   "cell_type": "code",
   "execution_count": 29,
   "metadata": {},
   "outputs": [
    {
     "data": {
      "text/plain": [
       "{'Ashton': 82.25,\n",
       " 'Sierra': 100,\n",
       " 'Zach': 66,\n",
       " 'Manuel': 94,\n",
       " 'Felicia': 91.25,\n",
       " 'Ankur': 78.5,\n",
       " 'Ananya': 92.75,\n",
       " 'Nick': 85.5,\n",
       " 'Olivia': 82,\n",
       " 'Molly': 79.75}"
      ]
     },
     "execution_count": 29,
     "metadata": {},
     "output_type": "execute_result"
    }
   ],
   "source": [
    "#CM Answer to Q2\n",
    "# p 1.1) Create a dict called num_grades to store each student's average numerical grade for the semester.\n",
    "\n",
    "# num_grades =\n",
    "import statistics as st\n",
    "from statistics import mean\n",
    "\n",
    "\n",
    "def num_grades(students):\n",
    "    grades = list(students.values())\n",
    "    student = list(students.keys())\n",
    "    mean_list = []\n",
    "    \n",
    "    for ele in grades: \n",
    "        mean = st.mean(ele)\n",
    "        mean_list.append(mean)\n",
    "        continue\n",
    "    return dict(zip(student,mean_list))\n",
    "num_grades(students)\n",
    "\n"
   ]
  },
  {
   "cell_type": "code",
   "execution_count": 31,
   "metadata": {},
   "outputs": [
    {
     "data": {
      "text/plain": [
       "{'Ashton': 'B',\n",
       " 'Sierra': 'A',\n",
       " 'Zach': 'D',\n",
       " 'Manuel': 'A',\n",
       " 'Felicia': 'A',\n",
       " 'Ankur': 'C',\n",
       " 'Ananya': 'A',\n",
       " 'Nick': 'B',\n",
       " 'Olivia': 'B',\n",
       " 'Molly': 'C'}"
      ]
     },
     "execution_count": 31,
     "metadata": {},
     "output_type": "execute_result"
    }
   ],
   "source": [
    "# p 1.2) Create a dict called letter_grades to store each student's final letter grade for the semester. \n",
    "#Use A, B, C, D, and F as grades per the standard grading scale.\n",
    "\n",
    "# letter_grades =\n",
    "def letter_grades(students):\n",
    "    #use the output from previous function to get the average grade \n",
    "    a = num_grades(students)\n",
    "    #declare an empty letter grade list\n",
    "    letter_grade_list = []\n",
    "    #declare an empty letter grade \n",
    "    letter_grade = ''\n",
    "    \n",
    "    #for loop that checks what the letter grade should be \n",
    "    for grade in a.values(): \n",
    "        \n",
    "        if grade >=90:\n",
    "            letter_grade = 'A'\n",
    "        elif grade >= 80:\n",
    "            letter_grade = 'B'\n",
    "        elif grade >= 70:\n",
    "            letter_grade = 'C'\n",
    "        elif grade >= 60:\n",
    "            letter_grade = 'D'\n",
    "        else:\n",
    "            letter_grade = 'F'\n",
    "        #once letter grade is assigned, append it to letter grade list \n",
    "        letter_grade_list.append(letter_grade)    \n",
    "            \n",
    "        continue #continue going through the dictionary items \n",
    "\n",
    "    #return dictionary of students and their grades    \n",
    "    return dict(zip(list(a.keys()),letter_grade_list))\n",
    "\n",
    "letter_grades(students)"
   ]
  },
  {
   "cell_type": "code",
   "execution_count": 32,
   "metadata": {},
   "outputs": [
    {
     "data": {
      "text/plain": [
       "['Sierra', 'Manuel', 'Felicia', 'Ananya']"
      ]
     },
     "execution_count": 32,
     "metadata": {},
     "output_type": "execute_result"
    }
   ],
   "source": [
    "# p 1.3) Create a list of honor roll students (i.e. students who got A's).\n",
    "\n",
    "def honor_roll(students):\n",
    "    # use output from previous function \n",
    "    a = letter_grades(students)\n",
    "    #declare an empty honor roll students \n",
    "    honor_roll_students = []\n",
    "    # for each student, look at their grade. if it is == A then add that students name to honor_roll list \n",
    "    for student, grade in a.items():\n",
    "        if grade == 'A':\n",
    "            honor_roll_students.append(student)\n",
    "            continue \n",
    "    return honor_roll_students\n",
    "honor_roll(students)"
   ]
  },
  {
   "cell_type": "markdown",
   "metadata": {
    "id": "he0BEqWgdYtW"
   },
   "source": [
    "\n",
    "\n",
    "### P3.PY\n",
    "\n",
    "\n"
   ]
  },
  {
   "cell_type": "code",
   "execution_count": 33,
   "metadata": {
    "id": "G3zzrv3ddYtW"
   },
   "outputs": [
    {
     "data": {
      "text/plain": [
       "{'fettuccine bolognese': '2.49: No change was made',\n",
       " 'gnocchi gorgonzola': '1.26: Change was made',\n",
       " 'chicken parmigiano': '2.24: No change was made',\n",
       " 'butternut squash risotto': '3.66: No change was made',\n",
       " 'spaghetti carbonara': '0.91: Change was made',\n",
       " 'pizza margherita': '2.01: Change was made',\n",
       " 'chicken marsala': '2.24: No change was made'}"
      ]
     },
     "execution_count": 33,
     "metadata": {},
     "output_type": "execute_result"
    }
   ],
   "source": [
    "#Q3\n",
    "\"\"\"\n",
    "Price Inventory\n",
    "\"\"\"\n",
    "\n",
    "# Imagine you're the owner of an Italian restaurant.\n",
    "# You're evaluating your pricing to make sure it's up to date with the latest costs of making each menu item\n",
    "# (see the menu prices and costs dicts below). \n",
    "# Evaluate whether each item's price returns a profit margin of at least $1.00. \n",
    "# If it doesn't, update the menu_prices dict with a new price that gives the item a $1.00 profit margin. \n",
    "# Then print out the items which you've repriced in a new dict called price_increases.\n",
    "\n",
    "menu_prices = {\n",
    "\t'fettuccine bolognese': 14.99,\n",
    "\t'gnocchi gorgonzola': 10.99,\n",
    "\t'chicken parmigiano': 13.99,\n",
    "\t'butternut squash risotto': 9.99,\n",
    "\t'spaghetti carbonara': 12.99,\n",
    "\t'pizza margherita': 12.99,\n",
    "\t'chicken marsala': 13.99\n",
    "}\n",
    "\n",
    "menu_costs = {\n",
    "\t'fettuccine bolognese': 12.50,\n",
    "\t'gnocchi gorgonzola': 11.25,\n",
    "\t'chicken parmigiano': 11.75,\n",
    "\t'butternut squash risotto': 6.33,\n",
    "\t'spaghetti carbonara': 12.90,\n",
    "\t'pizza margherita': 14.00,\n",
    "\t'chicken marsala': 11.75\n",
    "}\n",
    "menu_keys = list(menu_prices.keys())\n",
    "menu_prices_values = list(menu_prices.values())\n",
    "menu_costs_values = list(menu_costs.values())\n",
    "\n",
    "margin = []\n",
    "for i,j in zip(menu_prices_values,menu_costs_values):\n",
    "    x = i-j\n",
    "    y = 'No change was made'\n",
    "    if x <= 1:\n",
    "        x = (1 - x)\n",
    "        y = 'Change was made'\n",
    "    x_formatted = \"{:.2f}\".format(x)\n",
    "    margin.append(f'{x_formatted}: {y}')\n",
    "\n",
    "\n",
    "    \n",
    "    \n",
    "\n",
    "    \n",
    "margin   \n",
    "    \n",
    "price_increases = dict(zip(menu_keys,margin))\n",
    "price_increases\n",
    "\n"
   ]
  },
  {
   "cell_type": "markdown",
   "metadata": {
    "id": "01O3ZoKNdYtW"
   },
   "source": [
    "\n",
    "\n",
    "## CONTROL_FLOW\n",
    "\n",
    "### P1.PY\n",
    "\n",
    "\n"
   ]
  },
  {
   "cell_type": "code",
   "execution_count": 34,
   "metadata": {
    "id": "akd6R_RxdYtW"
   },
   "outputs": [
    {
     "data": {
      "text/plain": [
       "'\\nControl Flow - I\\n'"
      ]
     },
     "execution_count": 34,
     "metadata": {},
     "output_type": "execute_result"
    }
   ],
   "source": [
    "#Q1\n",
    "\"\"\"\n",
    "Control Flow - I\n",
    "\"\"\"\n",
    "\n",
    "# Print the numbers in the range (5:12) until you find a factor of 4. \n",
    "#If the range the user enters contains no factors of 4, print \"There are no factors of 4 in this interval.\"\n",
    "# HINT: for the range 5,12 there will likely be multiples of 4 present - \n",
    "#to assert the final requirement, try changing range boundaries\n",
    "\n",
    "\n",
    "\n",
    "\n"
   ]
  },
  {
   "cell_type": "code",
   "execution_count": 35,
   "metadata": {},
   "outputs": [
    {
     "name": "stdout",
     "output_type": "stream",
     "text": [
      "5\n",
      "6\n",
      "7\n",
      "9\n",
      "10\n",
      "11\n"
     ]
    }
   ],
   "source": [
    "#I think this meant multiples of 4 not factors of 4. \n",
    "\n",
    "for i in range(5,12):\n",
    "    if i % 4 != 0:\n",
    "        print(i)\n",
    "    \n"
   ]
  },
  {
   "cell_type": "markdown",
   "metadata": {
    "id": "OVWSkEqgdYtW"
   },
   "source": [
    "\n",
    "\n",
    "### P2.PY\n",
    "\n",
    "\n"
   ]
  },
  {
   "cell_type": "code",
   "execution_count": 36,
   "metadata": {
    "id": "VA2v2SLKdYtW"
   },
   "outputs": [
    {
     "name": "stdout",
     "output_type": "stream",
     "text": [
      "0\n",
      "1\n",
      "2\n",
      "4\n",
      "5\n"
     ]
    }
   ],
   "source": [
    "#Q2\n",
    "\"\"\"\n",
    "Control Flow II\n",
    "\"\"\"\n",
    "\n",
    "# Write a Python program that prints all the numbers from 0 to 6 except 3 and 6. Note : Use 'continue' statement.\n",
    "for i in range(0,7):\n",
    "    if i != 3 and i !=6:\n",
    "        print(i)\n",
    "    continue\n",
    "\n"
   ]
  },
  {
   "cell_type": "markdown",
   "metadata": {
    "id": "gln9W6S9dYtW"
   },
   "source": [
    "\n",
    "\n",
    "## SHAPES\n",
    "\n",
    "### P1.PY\n",
    "\n",
    "\n"
   ]
  },
  {
   "cell_type": "code",
   "execution_count": 37,
   "metadata": {
    "id": "S8uR7RKxdYtW"
   },
   "outputs": [
    {
     "name": "stdout",
     "output_type": "stream",
     "text": [
      "*\n",
      "**\n",
      "***\n",
      "****\n",
      "*****\n"
     ]
    }
   ],
   "source": [
    "#Q1\n",
    "\"\"\"\n",
    "Build a Triangle\n",
    "\"\"\"\n",
    "\n",
    "# Use a while loop to print a 5-level triangle of stars that looks like this:\n",
    "\n",
    "\"\"\"\n",
    "*\n",
    "**\n",
    "***\n",
    "****\n",
    "*****\n",
    "\"\"\"\n",
    "\n",
    "\n",
    "row = 1\n",
    "\n",
    "# Use a while loop to print the triangle\n",
    "while row <= 5:\n",
    "    print(\"*\" * row)\n",
    "    row += 1\n",
    "\n"
   ]
  },
  {
   "cell_type": "markdown",
   "metadata": {
    "id": "8TMZ0o88dYtW"
   },
   "source": [
    "\n",
    "\n",
    "### P2.PY\n",
    "\n",
    "\n",
    "\n"
   ]
  },
  {
   "cell_type": "code",
   "execution_count": 38,
   "metadata": {
    "id": "2IgVC2VIdYtW"
   },
   "outputs": [
    {
     "name": "stdout",
     "output_type": "stream",
     "text": [
      "    *\n",
      "   ***\n",
      "  *****\n",
      " *******\n",
      "*********\n"
     ]
    }
   ],
   "source": [
    "#Q2\n",
    "\"\"\"\n",
    "Build a Pyramid\n",
    "\"\"\"\n",
    "\n",
    "# Use a while loop to print a pyramid of stars that looks like this:\n",
    "\n",
    "\"\"\"\n",
    "    *\n",
    "   ***\n",
    "  *****\n",
    " *******\n",
    "*********\n",
    "\"\"\"\n",
    "row = 1\n",
    "spaces = 4\n",
    "\n",
    "\n",
    "# Use a while loop to print the triangle\n",
    "while row <= 9:\n",
    "    print(\" \" * spaces + \"*\" * row)\n",
    "    row += 2\n",
    "    spaces -= 1\n",
    "\n",
    "\n"
   ]
  },
  {
   "cell_type": "code",
   "execution_count": 39,
   "metadata": {},
   "outputs": [
    {
     "name": "stdout",
     "output_type": "stream",
     "text": [
      "    *\n",
      "   ***\n",
      "  *****\n",
      " *******\n",
      "*********\n",
      " *******\n",
      "  *****\n",
      "   ***\n",
      "    *\n"
     ]
    }
   ],
   "source": [
    "\"\"\"\n",
    "Build a Diamond\n",
    "\"\"\"\n",
    "\n",
    "# Use a while loop to print a diamond of stars that looks like this:\n",
    "\n",
    "\"\"\"\n",
    "    *\n",
    "   ***\n",
    "  *****\n",
    " *******\n",
    "*********\n",
    " *******\n",
    "  *****\n",
    "   ***\n",
    "    *\n",
    "\"\"\"\n",
    "row = 1\n",
    "spaces = 4\n",
    "while row <= 9:\n",
    "    print(\" \" * spaces + \"*\" * row)\n",
    "    row += 2\n",
    "    spaces -= 1\n",
    "    \n",
    "row = 7\n",
    "spaces = 1\n",
    "while row >= 1:\n",
    "    print(\" \" * spaces + \"*\" * row)\n",
    "    row -= 2\n",
    "    spaces += 1\n"
   ]
  },
  {
   "cell_type": "markdown",
   "metadata": {
    "id": "TYmq8ztrdYtW"
   },
   "source": [
    "\n",
    "\n",
    "### P3.PY\n",
    "\n",
    "\n"
   ]
  },
  {
   "cell_type": "markdown",
   "metadata": {
    "id": "XDQnADr2dYtW"
   },
   "source": [
    "\n",
    "\n",
    "## LOOP_CHALLENGES\n",
    "\n",
    "### P1.PY\n",
    "\n",
    "\n"
   ]
  },
  {
   "cell_type": "code",
   "execution_count": null,
   "metadata": {},
   "outputs": [],
   "source": []
  },
  {
   "cell_type": "code",
   "execution_count": null,
   "metadata": {
    "id": "ySrxGQCXdYtW"
   },
   "outputs": [],
   "source": [
    "#Q1\n",
    "\"\"\"\n",
    "Valid Passwords\n",
    "\"\"\"\n",
    "\n",
    "# Check the validity of password input by users based on the below security requirements: At least 1 letter between [a-z] and 1 letter between [A-Z].\n",
    "\"\"\"\n",
    "# At least 1 letter between [a-z] and 1 letter between [A-Z].\n",
    "#At least 1 number between [0-9].\n",
    "At least 1 character from [$#@].\n",
    "Minimum length 6 characters.\n",
    "Maximum length 16 characters.\n",
    "\"\"\"\n",
    "\n",
    "\n",
    "# Hint: Look up the documentation for the \"re\" library and it's \".search()\" method.\n",
    "\n",
    "# p = input(\"Input your password: \")"
   ]
  },
  {
   "cell_type": "markdown",
   "metadata": {
    "id": "adNWtHSfdYtW"
   },
   "source": [
    "\n",
    "\n",
    "### P2.PY\n",
    "\n",
    "\n"
   ]
  },
  {
   "cell_type": "code",
   "execution_count": null,
   "metadata": {
    "id": "XGuSfOEwdYtW"
   },
   "outputs": [],
   "source": [
    "#Q2\n",
    "\"\"\"\n",
    "Prime Numbers I\n",
    "\"\"\"\n",
    "\n",
    "# Check if a number input by a user is prime or not. If it is NOT a prime number, print out that it is not a prime number. If it IS a prime number, print out that it is a prime number and give an example of two of its factors. Hint: Prime numbers must be greater than 1.\n",
    "\n",
    "# Example of output for a NON-prime:\n",
    "# 12 is not a prime number\n",
    "# For example, 2 x 6 = 12\n",
    "\n",
    "\n",
    "\n",
    "# user_input = input(\"Enter a number to check if it's prime: \")\n",
    "\n"
   ]
  },
  {
   "cell_type": "markdown",
   "metadata": {
    "id": "lBcgBPtGdYtW"
   },
   "source": [
    "\n"
   ]
  }
 ],
 "metadata": {
  "colab": {
   "provenance": []
  },
  "kernelspec": {
   "display_name": "Python 3 (ipykernel)",
   "language": "python",
   "name": "python3"
  },
  "language_info": {
   "codemirror_mode": {
    "name": "ipython",
    "version": 3
   },
   "file_extension": ".py",
   "mimetype": "text/x-python",
   "name": "python",
   "nbconvert_exporter": "python",
   "pygments_lexer": "ipython3",
   "version": "3.9.13"
  }
 },
 "nbformat": 4,
 "nbformat_minor": 1
}
