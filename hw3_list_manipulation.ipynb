{
 "cells": [
  {
   "cell_type": "markdown",
   "metadata": {
    "id": "zzXuWz4N1qLE"
   },
   "source": [
    "<a href=\"https://colab.research.google.com/github/mottaquikarim/PYTH2/blob/master/src/PSETS/nb/hw2.ipynb\" target=\"_parent\"><img src=\"https://colab.research.google.com/assets/colab-badge.svg\" alt=\"Open In Colab\"/></a>"
   ]
  },
  {
   "cell_type": "markdown",
   "metadata": {
    "id": "2XB3mhEM1qLF"
   },
   "source": [
    "#  LISTS\n",
    "\n",
    "## LIST_MANIPULATION\n",
    "\n",
    "### P1.PY Phone Numbers\n"
   ]
  },
  {
   "cell_type": "code",
   "execution_count": 1,
   "metadata": {
    "id": "I8-3cTEa1qLG"
   },
   "outputs": [],
   "source": [
    "#Question 1\n",
    "\"\"\"\n",
    "Phone Numbers\n",
    "\"\"\"\n",
    "# Parse this phone number so that a computer can process\n",
    "# it. (Hint: It can't include any non-numeric\n",
    "# characters.)\n",
    "\n",
    "cell = '1.192.168.0143'\n"
   ]
  },
  {
   "cell_type": "code",
   "execution_count": 2,
   "metadata": {},
   "outputs": [
    {
     "name": "stdout",
     "output_type": "stream",
     "text": [
      "Components of the string: ['1', '192', '168', '0143']\n",
      "Components of the string without non-numeric characters: 11921680143\n"
     ]
    }
   ],
   "source": [
    "#CM Answer to Q1\n",
    "\n",
    "#Step 1: split the string and identify the period as the delimiter. This will create a list of each element \n",
    "split = cell.split('.')\n",
    "print(f'Components of the string: {split}')\n",
    "\n",
    "#Step 2: Join the elements of the list by using the join function \n",
    "join = ''.join(split)\n",
    "print(f'Components of the string without non-numeric characters: {join}')"
   ]
  },
  {
   "cell_type": "markdown",
   "metadata": {
    "id": "aHB4mCvo1qLG"
   },
   "source": [
    "\n",
    "\n",
    "### P2.PY Basic Math Ops\n",
    "\n",
    "\n"
   ]
  },
  {
   "cell_type": "code",
   "execution_count": 3,
   "metadata": {
    "id": "s2qdCUZk1qLG"
   },
   "outputs": [],
   "source": [
    "#Q2 \n",
    "\"\"\"\n",
    "Basic Math Ops\n",
    "\"\"\"\n",
    "\n",
    "# Given the list below, assign the correct values to the variables below.\n",
    "\t# my_sum =\n",
    "\t# my_min =\n",
    "\t# my_max =\n",
    "\t# my_range =\n",
    "\t# my_mean =\n",
    "\n",
    "nums = [2, 19, 20, 12, 6, 24, 8, 30, 28, 25]\n",
    "\n",
    "\n",
    "# Once you finish, print out each value **on its own line** in this format: \"my_median = \" etc.\n",
    "\n"
   ]
  },
  {
   "cell_type": "code",
   "execution_count": 4,
   "metadata": {},
   "outputs": [
    {
     "name": "stdout",
     "output_type": "stream",
     "text": [
      "my_sum = 174\n",
      "my_min = 2\n",
      "my_max = 30\n",
      "my_range = 28\n",
      "my_mean = 17.4\n"
     ]
    }
   ],
   "source": [
    "#CM Answer to Q2\n",
    "\n",
    "#Step 1: import statistics which we need in order to use the mean functionality \n",
    "import statistics as st\n",
    "\n",
    "#Step 2: Compute each value \n",
    "my_sum = sum(nums)\n",
    "my_min = min(nums)\n",
    "my_max = max(nums)\n",
    "my_range = my_max - my_min\n",
    "my_mean = st.mean(nums)\n",
    "\n",
    "#Step 3: Print results\n",
    "print (f'my_sum = {my_sum}\\nmy_min = {my_min}\\nmy_max = {my_max}\\nmy_range = {my_range}\\nmy_mean = {my_mean}')"
   ]
  },
  {
   "cell_type": "markdown",
   "metadata": {
    "id": "dpXGAISc1qLG"
   },
   "source": [
    "\n",
    "\n",
    "### P3.PY Merge Lists with Duplicates\n",
    "\n"
   ]
  },
  {
   "cell_type": "code",
   "execution_count": 6,
   "metadata": {
    "id": "NWINpKEj1qLG"
   },
   "outputs": [
    {
     "data": {
      "text/plain": [
       "'\\nMerge Lists with Duplicates\\n'"
      ]
     },
     "execution_count": 6,
     "metadata": {},
     "output_type": "execute_result"
    }
   ],
   "source": [
    "#Q3\n",
    "\"\"\"\n",
    "Merge Lists with Duplicates\n",
    "\"\"\"\n",
    "\n",
    "# Use the two lists below to solve this problem. Print out the result from each section as you go along.\n",
    "# \n",
    "# list1, list2 = [2, 8, 6], [10, 4, 12]\n",
    "\n",
    "\n",
    "# A) Add another instance of each item in list1 to list1 again and assign the results to list3.\n",
    "# list3 = None\n",
    "\n",
    "\n",
    "# B) Combine the two given lists and assign them to list4.\n",
    "# list4 = None\n",
    "# \n",
    "\n",
    "# C) Replace the first 3 items in list 3 with the numbers 13, 16, 9.\n",
    "# list3[:2] = None\n",
    "\n",
    "# D) Merge list3 and list4 to create a list containing no duplicates and store this in list5.\n",
    "# list5 = None\n",
    "\n",
    "\n",
    "# Take a look at your printed statements to see the evolution of your lists with each step of this problem.\n"
   ]
  },
  {
   "cell_type": "code",
   "execution_count": 7,
   "metadata": {},
   "outputs": [
    {
     "name": "stdout",
     "output_type": "stream",
     "text": [
      "List 3: [2, 8, 6, 2, 8, 6]\n",
      "List 4: [2, 8, 6, 10, 4, 12]\n",
      "List 3,replaced: [13, 16, 9, 6, 2, 8, 6]\n",
      "List 5: [2, 4, 6, 8, 9, 10, 12, 13, 16]\n"
     ]
    }
   ],
   "source": [
    "#CM Answer to Q3\n",
    "\n",
    "list1,list2 = [2, 8, 6], [10, 4, 12]\n",
    "\n",
    "\n",
    "# A) Add another instance of each item in list1 to list1 again and assign the results to list3.\n",
    "list3 = None\n",
    "list1.append(list1[0])\n",
    "list1.append(list1[1])\n",
    "list1.append(list1[2])\n",
    "list3 = list1\n",
    "print(f'List 3: {list3}')\n",
    "\n",
    "# B) Combine the two given lists and assign them to list4.\n",
    "# list4 = None\n",
    "list1,list2 = [2, 8, 6], [10, 4, 12]\n",
    "list1.extend(list2)\n",
    "list4 = list1\n",
    "print(f'List 4: {list4}')\n",
    "\n",
    "\n",
    "# C) Replace the first 3 items in list 3 with the numbers 13, 16, 9.\n",
    "list3[:2] = [13,16,9]\n",
    "print(f'List 3,replaced: {list3}')\n",
    "\n",
    "\n",
    "\n",
    "# D) Merge list3 and list4 to create a list containing no duplicates and store this in list5.\n",
    "list3.extend(list4)\n",
    "list5 = set(list3) # use sets to remove duplicates and then convert back to list \n",
    "print(f'List 5: {list(list5)}')\n"
   ]
  },
  {
   "cell_type": "markdown",
   "metadata": {
    "id": "CPlDId9j1qLH"
   },
   "source": [
    "\n",
    "\n",
    "### P4.PY Spotify Playlists - Sorting\n"
   ]
  },
  {
   "cell_type": "code",
   "execution_count": 8,
   "metadata": {
    "id": "PHAUG3yB1qLH"
   },
   "outputs": [],
   "source": [
    "#Q4\n",
    "\"\"\"\n",
    "Spotify Playlists - Sorting\n",
    "\"\"\"\n",
    "\n",
    "# You work for Spotify and are creating a feature for users to alphabetize their playlists by song title. \n",
    "#Below is a list of titles from a sample playlist.\n",
    "\n",
    "playlist_titles = ['Tiny Dancer', 'At Last', 'Fortunate Son',\n",
    "'Hey Jude', 'Isn\\'t She Lovely', 'Just the Way You Are', 'I\\'m Yours',\n",
    "'Vienna', 'Roxanne', 'Dancing in the Moonlight']\n",
    "\n",
    "# Alphabetize these songs and print the result.\n",
    "\n",
    "\n",
    "\n",
    "# Now do the reverse."
   ]
  },
  {
   "cell_type": "code",
   "execution_count": 9,
   "metadata": {},
   "outputs": [
    {
     "name": "stdout",
     "output_type": "stream",
     "text": [
      "Sorted Ascending:\n",
      "['At Last', 'Dancing in the Moonlight', 'Fortunate Son', 'Hey Jude', \"I'm Yours\", \"Isn't She Lovely\", 'Just the Way You Are', 'Roxanne', 'Tiny Dancer', 'Vienna']\n",
      "\n",
      "Sorted Descending: \n",
      "['Vienna', 'Tiny Dancer', 'Roxanne', 'Just the Way You Are', \"Isn't She Lovely\", \"I'm Yours\", 'Hey Jude', 'Fortunate Son', 'Dancing in the Moonlight', 'At Last']\n"
     ]
    }
   ],
   "source": [
    "#CM Answer to Q4\n",
    "\n",
    "print(f'Sorted Ascending:\\n{sorted(playlist_titles)}')\n",
    "\n",
    "print(f'\\nSorted Descending: \\n{sorted(playlist_titles, reverse = True)}')\n"
   ]
  },
  {
   "cell_type": "markdown",
   "metadata": {
    "id": "Wkq6nxzL1qLH"
   },
   "source": [
    "\n",
    "\n",
    "### P5.PY Cool Runnings!\n"
   ]
  },
  {
   "cell_type": "code",
   "execution_count": 10,
   "metadata": {
    "id": "G8a9e1w61qLH"
   },
   "outputs": [],
   "source": [
    "#Q5\n",
    "\"\"\"\n",
    "Cool Runnings!\n",
    "\"\"\"\n",
    "\n",
    "# Here's a quote from the movie 'Cool Runnings'. :)\n",
    "\n",
    "# Replace the word bobsled with \"YOLO\" and print the resultant list as 4 sentences (i.e. NOT a list), \n",
    "#each on a new line.\n",
    "\n",
    "cool_runnings = ['Feel', 'the', 'rhythm.','Feel', 'the', 'rhyme.','Get', 'on', 'up.','It\\'s', 'bobsled', 'time!'\n",
    "]\n"
   ]
  },
  {
   "cell_type": "code",
   "execution_count": 11,
   "metadata": {},
   "outputs": [
    {
     "name": "stdout",
     "output_type": "stream",
     "text": [
      "Step 1: Replace bobsled\n",
      "cool_runnings = ['Feel', 'the', 'rhythm.', 'Feel', 'the', 'rhyme.', 'Get', 'on', 'up.', \"It's\", 'YOLO', 'time!']\n",
      "\n",
      "Step2: Create sentences: Feel the rhythm. Feel the rhyme. Get on up. It's YOLO time!\n",
      "\n",
      "Step 3: Create list for each sentence['Feel the rhythm', ' Feel the rhyme', ' Get on up', \" It's YOLO time!\"]\n",
      "\n",
      "Step 4: Print each sentence on separate line:\n",
      " Feel the rhythm\n",
      " Feel the rhyme\n",
      " Get on up\n",
      " It's YOLO time!\n"
     ]
    }
   ],
   "source": [
    "#CM Answer to Q5\n",
    "\n",
    "#Step 1: replace the bobsled element with YOLO \n",
    "cool_runnings[10] = 'YOLO'\n",
    "print(f'Step 1: Replace bobsled\\ncool_runnings = {cool_runnings}\\n')\n",
    "\n",
    "#Step 2: Create sentences\n",
    "joined = ' '.join(cool_runnings)\n",
    "print(f'Step2: Create sentences: {joined}\\n')\n",
    "\n",
    "joined_split = joined.split('.')\n",
    "print(f'Step 3: Create list for each sentence{joined_split}\\n')\n",
    "print(f'Step 4: Print each sentence on separate line:\\n {joined_split[0]}\\n{joined_split[1]}\\n{joined_split[2]}\\n{joined_split[3]}')\n"
   ]
  },
  {
   "cell_type": "markdown",
   "metadata": {
    "id": "LwE3GktG1qLH"
   },
   "source": [
    "\n",
    "\n",
    "## LIST_CHALLENGES\n",
    "\n",
    "### P1.PY CHALLENGE - Extensions\n"
   ]
  },
  {
   "cell_type": "code",
   "execution_count": 12,
   "metadata": {
    "id": "R0oS-jc01qLH"
   },
   "outputs": [],
   "source": [
    "#Q1\n",
    "\"\"\"\n",
    "CHALLENGE - Extensions\n",
    "\"\"\"\n",
    "\n",
    "# ** Challenge** Add each element of the tuple1 to list1 *individually* and print the result.\n",
    "\n",
    "list1 = [6, 12, 9, 4, 10, 1]\n",
    "tuple1 = [(15,3), (6,2), (1, 8)]\n"
   ]
  },
  {
   "cell_type": "code",
   "execution_count": 13,
   "metadata": {},
   "outputs": [
    {
     "name": "stdout",
     "output_type": "stream",
     "text": [
      "Step 1:[6, 12, 9, 4, 10, 1, 15]\n",
      "Step 2:[6, 12, 9, 4, 10, 1, 15, 3]\n",
      "Step 3:[6, 12, 9, 4, 10, 1, 15, 3, 6]\n",
      "Step 4:[6, 12, 9, 4, 10, 1, 15, 3, 6, 2]\n",
      "Step 5:[6, 12, 9, 4, 10, 1, 15, 3, 6, 2, 1]\n",
      "Step 6:[6, 12, 9, 4, 10, 1, 15, 3, 6, 2, 1, 8]\n"
     ]
    }
   ],
   "source": [
    "#CM Answer to Q1\n",
    "list1.append(tuple1[0][0])\n",
    "print(f'Step 1:{list1}')\n",
    "list1.append(tuple1[0][1])\n",
    "print(f'Step 2:{list1}')\n",
    "list1.append(tuple1[1][0])\n",
    "print(f'Step 3:{list1}')\n",
    "list1.append(tuple1[1][1])\n",
    "print(f'Step 4:{list1}')\n",
    "list1.append(tuple1[2][0])\n",
    "print(f'Step 5:{list1}')\n",
    "list1.append(tuple1[2][1])\n",
    "print(f'Step 6:{list1}')"
   ]
  },
  {
   "cell_type": "markdown",
   "metadata": {
    "id": "-tqizV2m1qLH"
   },
   "source": [
    "\n",
    "\n",
    "### P2.PY CHALLENGE - Core Statistics Calculations\n"
   ]
  },
  {
   "cell_type": "code",
   "execution_count": 14,
   "metadata": {
    "id": "zNCDj6kP1qLH"
   },
   "outputs": [],
   "source": [
    "#Q2\n",
    "\"\"\"\n",
    "CHALLENGE - Core Statistics Calculations\n",
    "\"\"\"\n",
    "\n",
    "# Given the sample below, find the mean, median, mode, variance, and standard deviation of this sample. Print them out separately, but in the same format as before.\n",
    "\t# my_median =\n",
    "\t# my_mode =\n",
    "\t# my_variance =\n",
    "\t# my_sd =\n",
    "\n",
    "sample = [6, 19, 20, 12, 6, 24, 8, 30, 28, 25]\n",
    "\n",
    "\n",
    "# Once you finish, print out each value **on its own line** in this format: \"median = \" etc.\n"
   ]
  },
  {
   "cell_type": "code",
   "execution_count": 15,
   "metadata": {},
   "outputs": [
    {
     "name": "stdout",
     "output_type": "stream",
     "text": [
      "my_median = 19.5\n",
      "my_mode = 6\n",
      "my_variance = 84.17777777777778\n",
      "my_mean = 9.174844836714012\n"
     ]
    }
   ],
   "source": [
    "#CM Answer to Q2\n",
    "#Step 1: import statistics which we need in order to use the mean functionality \n",
    "import statistics as st\n",
    "\n",
    "#Step 2: Compute each value \n",
    "my_median = st.median(sample)\n",
    "my_mode = st.mode(sample)\n",
    "my_variance = st.variance(sample)\n",
    "my_mean = st.stdev(sample)\n",
    "\n",
    "#Step 3: Print results\n",
    "print (f'my_median = {my_median}\\nmy_mode = {my_mode}\\nmy_variance = {my_variance}\\nmy_mean = {my_mean}')"
   ]
  },
  {
   "cell_type": "markdown",
   "metadata": {
    "id": "HXqGjeWQ1qLI"
   },
   "source": [
    "\n",
    "\n",
    "#  DICTS\n",
    "\n",
    "## DICT_OPS\n",
    "\n",
    "### P1.PY Basic Dict Concepts\n"
   ]
  },
  {
   "cell_type": "code",
   "execution_count": 16,
   "metadata": {
    "id": "nD2tvjyK1qLI"
   },
   "outputs": [
    {
     "data": {
      "text/plain": [
       "'\\nBasic Dict Concepts\\n'"
      ]
     },
     "execution_count": 16,
     "metadata": {},
     "output_type": "execute_result"
    }
   ],
   "source": [
    "#Q1\n",
    "\"\"\"\n",
    "Basic Dict Concepts\n",
    "\"\"\"\n",
    "\n",
    "# A) Declare an empty dict as d1.\n",
    "\n",
    "\n",
    "\n",
    "# B) Create a dict called d2 containing the first and last names below:\n",
    "# Anthony Paollelo, Ping Qiao, Enrique Alvarez, Arjun Dhir\n",
    "\n",
    "\n",
    "\n",
    "\n",
    "# C) Add Allison Zhang person to d2.\n",
    "\n",
    "\n",
    "\n",
    "# D) How many people are now in d2? Print out all their *first* names in the vars below.\n",
    "\n",
    "### num_people =\n",
    "\n",
    "### first_names =\n",
    "\n",
    "\n",
    "# E) Delete a random person from d2 and print his/her name in the var below.\n",
    "\n",
    "### x =\n",
    "\n",
    "\n",
    "# F) Re-add the name you deleted to the end of d2.\n",
    "\n",
    "\n",
    "\n",
    "\n"
   ]
  },
  {
   "cell_type": "code",
   "execution_count": 17,
   "metadata": {},
   "outputs": [
    {
     "name": "stdout",
     "output_type": "stream",
     "text": [
      "d2 = {'Anthony': 'Paollelo', 'Ping': 'Qiao', 'Enrique': 'Alvarez', 'Arjun': 'Dhir'}\n",
      "\n",
      "d2 = {'Anthony': 'Paollelo', 'Ping': 'Qiao', 'Enrique': 'Alvarez', 'Arjun': 'Dhir', 'Allison': 'Zhang'}\n",
      "\n",
      "Number of people: {5}\n",
      "\n",
      "first_names = dict_keys(['Anthony', 'Ping', 'Enrique', 'Arjun', 'Allison'])\n",
      "\n",
      "Random person removed = ('Allison', 'Zhang')\n",
      "d2 = {'Anthony': 'Paollelo', 'Ping': 'Qiao', 'Enrique': 'Alvarez', 'Arjun': 'Dhir'}\n",
      "\n",
      "Added back in: d2 = {'Anthony': 'Paollelo', 'Ping': 'Qiao', 'Enrique': 'Alvarez', 'Arjun': 'Dhir', 'Allison': 'Zhang'}\n",
      "\n"
     ]
    }
   ],
   "source": [
    "#CM Answer to Q1\n",
    "#Q1\n",
    "\n",
    "\n",
    "# A) Declare an empty dict as d1.\n",
    "d1 = {}\n",
    "\n",
    "\n",
    "# B) Create a dict called d2 containing the first and last names below:\n",
    "# Anthony Paollelo, Ping Qiao, Enrique Alvarez, Arjun Dhir\n",
    "\n",
    "d2 = {'Anthony':'Paollelo', 'Ping':'Qiao','Enrique':'Alvarez','Arjun':'Dhir'}\n",
    "print(f'd2 = {d2}\\n')\n",
    "\n",
    "\n",
    "# C) Add Allison Zhang person to d2.\n",
    "d2['Allison']='Zhang'\n",
    "print(f'd2 = {d2}\\n')\n",
    "\n",
    "\n",
    "\n",
    "# D) How many people are now in d2? Print out all their *first* names in the vars below.\n",
    "first_names = d2.keys()\n",
    "\n",
    "num_people ={len(d2)}\n",
    "print(f'Number of people: {num_people}\\n')\n",
    "\n",
    "first_names = d2.keys()\n",
    "print(f'first_names = {first_names}\\n')\n",
    "\n",
    "# E) Delete a random person from d2 and print his/her name in the var below.\n",
    "\n",
    "x = d2.popitem()\n",
    "print(f'Random person removed = {x}')\n",
    "print(f'd2 = {d2}\\n')\n",
    "\n",
    "# F) Re-add the name you deleted to the end of d2.\n",
    "d2[x[0]]=x[1]\n",
    "print(f'Added back in: d2 = {d2}\\n')\n",
    "\n",
    "\n",
    "\n",
    "\n",
    "\n",
    "\n",
    "\n",
    "\n"
   ]
  },
  {
   "cell_type": "markdown",
   "metadata": {
    "id": "5N5aq6mJ1qLI"
   },
   "source": [
    "\n",
    "\n",
    "### P2.PY Merging Dicts\n",
    "\n",
    "\n"
   ]
  },
  {
   "cell_type": "code",
   "execution_count": 18,
   "metadata": {
    "id": "BBbJEXCi1qLI"
   },
   "outputs": [],
   "source": [
    "#Q2\n",
    "\"\"\"\n",
    "Merging Dicts\n",
    "\"\"\"\n",
    "\n",
    "# Merge these two dicts without creating a new one.\n",
    "\n",
    "d1 = {'a': 100, 'b': 200}\n",
    "d2 = {'c': 300, 'd': 400, 'e': 500}\n",
    "\n",
    "\n",
    "\n"
   ]
  },
  {
   "cell_type": "code",
   "execution_count": 19,
   "metadata": {},
   "outputs": [
    {
     "name": "stdout",
     "output_type": "stream",
     "text": [
      "d1 = {'a': 100, 'b': 200}\n",
      "d2 = {'c': 300, 'd': 400, 'e': 500}\n",
      "d1 = {'a': 100, 'b': 200, 'c': 300, 'd': 400, 'e': 500}\n"
     ]
    }
   ],
   "source": [
    "#CM Answer to Q2\n",
    "print(f'd1 = {d1}')\n",
    "print(f'd2 = {d2}')\n",
    "\n",
    "d1.update(d2)\n",
    "print(f'd1 = {d1}')"
   ]
  },
  {
   "cell_type": "markdown",
   "metadata": {
    "id": "gRoVBhyY1qLI"
   },
   "source": [
    "\n",
    "\n",
    "### P3.PY Math with Girl Scout Cookies\n",
    "\n",
    "\n"
   ]
  },
  {
   "cell_type": "code",
   "execution_count": 20,
   "metadata": {
    "id": "ydMTVfNF1qLI"
   },
   "outputs": [],
   "source": [
    "#Q3\n",
    "\"\"\"\n",
    "Math with Girl Scout Cookies\n",
    "\"\"\"\n",
    "\n",
    "# Print out the number of boxes of girl scout cookies that each girl in the troop sold in the below format:\n",
    "\t# Wendy: _____\n",
    "\t# Connie: _____\n",
    "\t# Francesca: _____\n",
    "\n",
    "Wendy = {'tagalongs': 5, 'thin mints': 12, 'samoas': 8}\n",
    "Connie = {'tagalongs': 10, 'thin mints': 4, 'samoas': 12}\n",
    "Francesca = {'tagalongs': 18, 'thin mints': 14, 'samoas': 10}\n",
    "\n",
    "### salesW =\n",
    "### salesC =\n",
    "### salesF =\n",
    "\n",
    "\n",
    "# For each type of girl scout cookie, print out the total number of boxes sold in the below format:\n",
    "\t# tagalongs: _____\n",
    "\t# thin mints: _____\n",
    "\t# samoas: _____\n",
    "\n",
    "### total_tagalongs =\n",
    "### total_thinmints =\n",
    "### total_samoas =\n",
    "\n",
    "\n",
    "# For each type of girl scout cookie, print out the average number of boxes sold in the below format:\n",
    "\t# tagalongs: _____\n",
    "\t# thin mints: _____\n",
    "\t# samoas: _____\n",
    "\n",
    "### avg_tagalongs =\n",
    "### avg_thinmints =\n",
    "### avg_samoas =\n",
    "\n",
    "# Print out total the number of boxes of cookies the girls sold collectively as follows:\n",
    "\t# \"This year we sold ______ boxes!\"\n",
    "\n",
    "### boxes_sold ="
   ]
  },
  {
   "cell_type": "code",
   "execution_count": 21,
   "metadata": {},
   "outputs": [
    {
     "name": "stdout",
     "output_type": "stream",
     "text": [
      "salesW: 25\n",
      "salesC: 26\n",
      "salesF: 42\n",
      "\n",
      "tagalongs: 33\n",
      "thin_mints: 30\n",
      "samoas: 30\n",
      "\n",
      "avg_tagalongs: 11\n",
      "avg_thin_mints: 10\n",
      "avg_samoas: 10\n",
      "\n",
      "This year we sold 93 boxes!\n"
     ]
    }
   ],
   "source": [
    "#CM Answer to Q3\n",
    "#Q3\n",
    "\n",
    "\n",
    "# Print out the number of boxes of girl scout cookies that each girl in the troop sold in the below format:\n",
    "\n",
    "\n",
    "wendy = {'tagalongs': 5, 'thin mints': 12, 'samoas': 8}\n",
    "connie = {'tagalongs': 10, 'thin mints': 4, 'samoas': 12}\n",
    "francesca = {'tagalongs': 18, 'thin mints': 14, 'samoas': 10}\n",
    "\n",
    "salesW = sum(wendy.values())\n",
    "salesC = sum(connie.values())\n",
    "salesF = sum(francesca.values())\n",
    "print(f'salesW: {salesW}\\nsalesC: {salesC}\\nsalesF: {salesF}\\n')\n",
    "\n",
    "\n",
    "# For each type of girl scout cookie, print out the total number of boxes sold in the below format:\n",
    "tagalongs = wendy['tagalongs'] + connie['tagalongs'] + francesca['tagalongs']\n",
    "thin_mints = wendy['thin mints'] + connie['thin mints'] + francesca['thin mints'] \n",
    "samoas = wendy['samoas'] + connie['samoas'] + francesca['samoas'] \n",
    "print(f'tagalongs: {tagalongs}\\nthin_mints: {thin_mints}\\nsamoas: {samoas}\\n')\n",
    "\n",
    "\n",
    "\n",
    "# For each type of girl scout cookie, print out the average number of boxes sold in the below format:\n",
    "import statistics as st\n",
    "avg_tagalongs = st.mean((wendy['tagalongs'],connie['tagalongs'], francesca['tagalongs']))\n",
    "avg_thin_mints = st.mean((wendy['thin mints'],connie['thin mints'], francesca['thin mints']))\n",
    "avg_samoas = st.mean((wendy['samoas'],connie['samoas'], francesca['samoas']))\n",
    "print(f'avg_tagalongs: {avg_tagalongs}\\navg_thin_mints: {avg_thin_mints}\\navg_samoas: {avg_samoas}\\n')\n",
    "\n",
    "\n",
    "\n",
    "\n",
    "boxes_sold = tagalongs + thin_mints + samoas\n",
    "print(f'This year we sold {boxes_sold} boxes!')"
   ]
  },
  {
   "cell_type": "markdown",
   "metadata": {
    "id": "7PceB2Qf1qLI"
   },
   "source": [
    "\n",
    "\n",
    "### P4.PY Inverting Keys & Values\n",
    "\n",
    "\n"
   ]
  },
  {
   "cell_type": "code",
   "execution_count": 22,
   "metadata": {
    "id": "BTT5s0aC1qLI"
   },
   "outputs": [],
   "source": [
    "#Q4\n",
    "\"\"\"\n",
    "Inverting Keys & Values\n",
    "\"\"\"\n",
    "\n",
    "# Invert dict1 - make the current keys into values and the current values into keys.\n",
    "\n",
    "\n",
    "dict1 = { \"k1\" : \"v1\", \"k2\" : \"v2\", \"k3\" : \"v3\" }\n",
    "\n"
   ]
  },
  {
   "cell_type": "code",
   "execution_count": 23,
   "metadata": {},
   "outputs": [
    {
     "name": "stdout",
     "output_type": "stream",
     "text": [
      "original dict: {'k1': 'v1', 'k2': 'v2', 'k3': 'v3'}\n",
      "keys: ['k1', 'k2', 'k3']\n",
      "values:['v1', 'v2', 'v3']\n",
      "invert: {'v1': 'k1', 'v2': 'k2', 'v3': 'k3'}\n"
     ]
    }
   ],
   "source": [
    "#CM Answer to Q4\n",
    "print(f'original dict: {dict1}')\n",
    "keys = list(dict1.keys())\n",
    "values = list(dict1.values())\n",
    "print(f'keys: {keys}')\n",
    "print(f'values:{values}')\n",
    "invert = {values[0]:keys[0],values[1]:keys[1], values[2]:keys[2]}\n",
    "print(f'invert: {invert}')"
   ]
  },
  {
   "cell_type": "markdown",
   "metadata": {
    "id": "qPxKOH2x1qLI"
   },
   "source": [
    "\n",
    "\n",
    "### P5.PY Lists to Dicts\n",
    "\n",
    "\n"
   ]
  },
  {
   "cell_type": "code",
   "execution_count": 24,
   "metadata": {
    "id": "kkT-AAyX1qLI"
   },
   "outputs": [],
   "source": [
    "#Q5\n",
    "\"\"\"\n",
    "Lists to Dicts\n",
    "\"\"\"\n",
    "\n",
    "# Turn these two lists into a dict called grades.\n",
    "\n",
    "names = ['Taq', 'Zola', 'Valerie', 'Valerie']\n",
    "scores = [[98, 89, 92, 94], [86, 45, 98, 100], [100, 100, 100, 100], [76, 79, 80, 82]]\n",
    "\n",
    "\n",
    "### grades =\n"
   ]
  },
  {
   "cell_type": "code",
   "execution_count": 25,
   "metadata": {},
   "outputs": [
    {
     "name": "stdout",
     "output_type": "stream",
     "text": [
      "{'Taq': [98, 89, 92, 94], 'Zola': [86, 45, 98, 100], 'Valerie': [76, 79, 80, 82]}\n"
     ]
    }
   ],
   "source": [
    "#CM Answer to Q5\n",
    "grades = {names[0]:scores[0], names[1]:scores[1], names[2]:scores[2], names[3]:scores[3]}\n",
    "print(grades)"
   ]
  },
  {
   "cell_type": "markdown",
   "metadata": {
    "id": "tsF6Wb811qLI"
   },
   "source": [
    "\n",
    "\n",
    "## SEARCH_VALIDATION\n",
    "\n",
    "### P1.PY Login Credentials\n",
    "\n",
    "\n"
   ]
  },
  {
   "cell_type": "code",
   "execution_count": 26,
   "metadata": {
    "id": "8tedGIoB1qLI"
   },
   "outputs": [],
   "source": [
    "#Q1\n",
    "\"\"\"\n",
    "Login Credentials\n",
    "\"\"\"\n",
    "\n",
    "# Imagine you work for a movie streaming service. You're in charge of safeguarding user privacy by ensuring the \n",
    "# login feature remains secure. For the sake of example only, below is the dict of user login info.\n",
    "# Normally, you wouldn't have access to see this unencrypted of course!\n",
    "\n",
    "users = {\n",
    "\t'person@email.com': 'PassWord',\n",
    "\t'someone@email.com': 'hiitsme',\n",
    "\t'me@email.com': 'myPassword',\n",
    "\t'anyone@email.com': 'IMawesome',\n",
    "\t'guy@email.com': 'pa$$wordz'\n",
    "\t# etc\n",
    "}\n",
    "\n",
    "\n",
    "# A user enters the below login info (email and password) for your app. \n",
    "#Search your database of user logins to see if this account exists and \n",
    "#if the password matches what you have on file. If the login credentials are correct, \n",
    "#print \"Successful login!\". Otherwise, print \"The login info you entered does not match any of our records.\"\n",
    "\n",
    "current_user = { 'me@email.com': 'myPassword' }\n"
   ]
  },
  {
   "cell_type": "code",
   "execution_count": 27,
   "metadata": {},
   "outputs": [
    {
     "name": "stdout",
     "output_type": "stream",
     "text": [
      "Successful login!\n"
     ]
    }
   ],
   "source": [
    "#CM Answer to Q1\n",
    "\n",
    "#Step 1: Retrieve the key from current_user and store it as a list so you can access the value as a string\n",
    "current_user_key = list(current_user.keys())[0]\n",
    "#Step 2: Retrieve the value from current_user and store it as a list so you can access value as a string\n",
    "current_user_value = list(current_user.values())[0]\n",
    "\n",
    "#Step 3: if else statement that says: if the current_user_key is in the users dict and returns a value that is \n",
    "#equal to the value thye input, then print success statement. else print error message\n",
    "if users[current_user_key] == current_user_value:\n",
    "    print('Successful login!')\n",
    "else:\n",
    "    print('The login info you entered does not match any of our records.')"
   ]
  },
  {
   "cell_type": "markdown",
   "metadata": {
    "id": "vUbwSTNf1qLI"
   },
   "source": [
    "\n",
    "\n",
    "## COUNTERS_CHALLENGE\n",
    "\n",
    "### P1.PY CHALLENGE - Word Frequency\n",
    "\n",
    "\n"
   ]
  },
  {
   "cell_type": "code",
   "execution_count": 28,
   "metadata": {
    "id": "gjBLm83x1qLI"
   },
   "outputs": [],
   "source": [
    "#Q1\n",
    "\"\"\"\n",
    "CHALLENGE - Word Frequency\n",
    "\"\"\"\n",
    "\n",
    "# Print out the number of words in this movie quote. Find and print out the most common word in the quote and how many times it was used.\n",
    "### Hint: You do not need a loop for this. Look up the Counter docs in python3.\n",
    "\n",
    "from collections import Counter\n",
    "\n",
    "princess_bride = [\n",
    "'Hello', 'my', 'name', 'is', 'Inigo', 'Montoya',\n",
    "'You', 'killed', 'my', 'father',\n",
    "'Prepare', 'to', 'die'\n",
    "]\n",
    "\n",
    "# p.s. You might use this to help analyze the most common topic in comments or reviews from your users to help understand the best places to improve you product."
   ]
  },
  {
   "cell_type": "code",
   "execution_count": 29,
   "metadata": {},
   "outputs": [
    {
     "name": "stdout",
     "output_type": "stream",
     "text": [
      "['Hello', 'my', 'name', 'is', 'Inigo', 'Montoya', 'You', 'killed', 'my', 'father', 'Prepare', 'to', 'die']\n"
     ]
    },
    {
     "data": {
      "text/plain": [
       "[('my', 2)]"
      ]
     },
     "execution_count": 29,
     "metadata": {},
     "output_type": "execute_result"
    }
   ],
   "source": [
    "#CM Answer to Q1\n",
    "print(princess_bride)\n",
    "fave_word = Counter(princess_bride).most_common(1)\n",
    "fave_word"
   ]
  },
  {
   "cell_type": "markdown",
   "metadata": {
    "id": "CKjQsjHv1qLI"
   },
   "source": [
    "\n",
    "\n",
    "### P2.PY CHALLENGE - Summing Dict Values\n",
    "\n",
    "\n"
   ]
  },
  {
   "cell_type": "code",
   "execution_count": 30,
   "metadata": {
    "id": "gxqi7t-F1qLI"
   },
   "outputs": [],
   "source": [
    "#Q2\n",
    "\"\"\"\n",
    "CHALLENGE - Summing Dict Values\n",
    "\"\"\"\n",
    "\n",
    "# Two Kindergarten teachers poll their classes for what fruit they want to eat for snacktime tomorrow. \n",
    "#Only one of them is going shopping, so she needs to know how many of each fruit she needs to buy in total. \n",
    "#Tally these up and assign them to the \"shopping_list\" dict.\n",
    "\n",
    "poll1 = {'apples': 8, 'bananas': 12}\n",
    "poll2 = {'apples': 6, 'bananas': 6, 'clementines': 8}\n",
    "\n",
    "\n"
   ]
  },
  {
   "cell_type": "code",
   "execution_count": 31,
   "metadata": {},
   "outputs": [
    {
     "name": "stdout",
     "output_type": "stream",
     "text": [
      "{'apples': 14, 'bananas': 18, 'clementines': 8}\n"
     ]
    }
   ],
   "source": [
    "#CM Answer to Q2\n",
    "### shopping_list =\n",
    "apples = poll1['apples'] + poll2['apples']\n",
    "bananas = poll1['bananas'] + poll2['bananas']\n",
    "clementines = poll2['clementines']\n",
    "shopping_list = {'apples': apples, 'bananas':bananas, 'clementines':clementines}\n",
    "print(shopping_list)"
   ]
  },
  {
   "cell_type": "markdown",
   "metadata": {
    "id": "nfMh-3mE1qLI"
   },
   "source": [
    "\n"
   ]
  }
 ],
 "metadata": {
  "colab": {
   "provenance": []
  },
  "kernelspec": {
   "display_name": "Python 3 (ipykernel)",
   "language": "python",
   "name": "python3"
  },
  "language_info": {
   "codemirror_mode": {
    "name": "ipython",
    "version": 3
   },
   "file_extension": ".py",
   "mimetype": "text/x-python",
   "name": "python",
   "nbconvert_exporter": "python",
   "pygments_lexer": "ipython3",
   "version": "3.9.13"
  }
 },
 "nbformat": 4,
 "nbformat_minor": 1
}
