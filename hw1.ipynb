{
 "cells": [
  {
   "cell_type": "markdown",
   "metadata": {
    "id": "jeuXL4H07QU1"
   },
   "source": [
    "<a href=\"https://colab.research.google.com/github/mottaquikarim/PYTH2/blob/master/src/PSETS/nb/basic_data_inclass_psets.ipynb\" target=\"_parent\"><img src=\"https://colab.research.google.com/assets/colab-badge.svg\" alt=\"Open In Colab\"/></a>"
   ]
  },
  {
   "cell_type": "markdown",
   "metadata": {
    "id": "roD0ewJz7QU3"
   },
   "source": [
    "#  BASIC DATA TYPES\n",
    "\n",
    "## BASICS\n",
    "\n",
    "### P1.PY\n",
    "\n",
    "\n"
   ]
  },
  {
   "cell_type": "code",
   "execution_count": null,
   "metadata": {
    "id": "xegeOpcd7QU3"
   },
   "outputs": [],
   "source": [
    "\"\"\"\n",
    "Placeholders\n",
    "\"\"\"\n",
    "\n",
    "# You're writing a program, and you don't know what your starting value for your 'initial' variable is yet. \n",
    "#The program won't run if you leave it blank, but you don't want to forget you need it! Make a workaround.\n",
    "\n",
    "\n",
    "\n"
   ]
  },
  {
   "cell_type": "code",
   "execution_count": 4,
   "metadata": {},
   "outputs": [],
   "source": [
    "#Question 1 CM Response: \n",
    "\n",
    "# You want to create the variable and have it exist so you create a placeholder variable. \n",
    "\n",
    "initial_variable = None\n",
    "\n",
    "#CM Notes: I'm confused how this would be helpful though. \n",
    "#If i need a variable to exist for the program to run, in what case would I not have a starting value? \n"
   ]
  },
  {
   "cell_type": "markdown",
   "metadata": {
    "id": "fVPDzMwF7QU4"
   },
   "source": [
    "\n",
    "\n",
    "### P2.PY\n",
    "\n",
    "\n"
   ]
  },
  {
   "cell_type": "code",
   "execution_count": 6,
   "metadata": {
    "id": "YjzHMFTS7QU4"
   },
   "outputs": [
    {
     "data": {
      "text/plain": [
       "'\\nBasic Variables\\n'"
      ]
     },
     "execution_count": 6,
     "metadata": {},
     "output_type": "execute_result"
    }
   ],
   "source": [
    "\"\"\"\n",
    "Basic Variables\n",
    "\"\"\"\n",
    "\n",
    "# Create a variable that represents your favorite number, and\n",
    "#add a note to remind yourself what this variable represents. \n",
    "#Now print it out without re-typing the number.\n",
    "\n",
    "\n",
    "\n",
    "# Create another variable that represents your favorite color, and do the same steps as above.\n",
    "\n"
   ]
  },
  {
   "cell_type": "code",
   "execution_count": 103,
   "metadata": {},
   "outputs": [
    {
     "name": "stdout",
     "output_type": "stream",
     "text": [
      "25\n",
      "Lilac\n"
     ]
    }
   ],
   "source": [
    "#Question 2 CM Response: \n",
    "favorite_number = 25 #this is my favorite number \n",
    "print(favorite_number)\n",
    "\n",
    "favorite_color = 'Lilac'\n",
    "print(favorite_color)"
   ]
  },
  {
   "cell_type": "markdown",
   "metadata": {
    "id": "y_5Nwta77QU4"
   },
   "source": [
    "\n",
    "\n",
    "### P3.PY\n",
    "\n",
    "\n"
   ]
  },
  {
   "cell_type": "code",
   "execution_count": null,
   "metadata": {
    "id": "39lfn-Vf7QU5"
   },
   "outputs": [],
   "source": [
    "\"\"\"\n",
    "String Formatting\n",
    "\"\"\"\n",
    "\n",
    "# Create a variable that contains the first 4 lines of your favorite song. \n",
    "#Add a comment that includes the song title and artist **each on their own line**! Now print out this variable.\n",
    "\n"
   ]
  },
  {
   "cell_type": "code",
   "execution_count": 101,
   "metadata": {},
   "outputs": [
    {
     "name": "stdout",
     "output_type": "stream",
     "text": [
      "Artist: The Mamas & the Papas \n",
      "\n",
      "Song Title: California Dreamin \n",
      "\n",
      "Lyrics Sample: \n",
      "All the leaves are brown\n",
      "And the sky is gray\n",
      "I went for a walk\n",
      "On a winters day\n"
     ]
    }
   ],
   "source": [
    "#Question 3 CM Response: \n",
    "\n",
    "lyrics = '''\n",
    "All the leaves are brown\n",
    "And the sky is gray\n",
    "I went for a walk\n",
    "On a winters day'''\n",
    "\n",
    "song_title = 'California Dreamin'\n",
    "artist =  'The Mamas & the Papas'\n",
    "print(f'Artist: {artist} \\n\\nSong Title: {song_title} \\n\\nLyrics Sample: {lyrics}')"
   ]
  },
  {
   "cell_type": "markdown",
   "metadata": {
    "id": "olZnhlkX7QU5"
   },
   "source": [
    "\n",
    "\n",
    "## TYPECASTING\n",
    "\n",
    "### P1.PY\n",
    "\n",
    "\n"
   ]
  },
  {
   "cell_type": "code",
   "execution_count": 26,
   "metadata": {
    "id": "0v6eBgBZ7QU5"
   },
   "outputs": [],
   "source": [
    "\"\"\"\n",
    "Typcasting w. Integers & Floats\n",
    "\"\"\"\n",
    "\n",
    "# Convert these numbers into floats and back. Print out each result as well as its data type.\n",
    "\n",
    "five = 5\n",
    "zero = 0\n",
    "neg_8 = -8\n",
    "neg_22 = -22"
   ]
  },
  {
   "cell_type": "code",
   "execution_count": 104,
   "metadata": {},
   "outputs": [
    {
     "name": "stdout",
     "output_type": "stream",
     "text": [
      "Float Results: \n",
      "\n",
      "result: 5.0, datatype: <class 'float'>\n",
      "\n",
      "result: 0.0, datatype: <class 'float'> \n",
      "\n",
      "result: -8.0, datatype: <class 'float'> \n",
      "\n",
      "result: -22.0, datatype: <class 'float'> \n",
      "\n",
      "Int Results: \n",
      "\n",
      "result: 5, datatype: <class 'int'> \n",
      "\n",
      "result: 0, datatype: <class 'int'> \n",
      "\n",
      "result: -8, datatype: <class 'int'> \n",
      "\n",
      "result: -22, datatype: <class 'int'> \n",
      "\n"
     ]
    }
   ],
   "source": [
    "#Question 4 CM Response: \n",
    "\n",
    "#Step 1: Converting to floats\n",
    "int_to_float_5 = float(five) \n",
    "int_to_float_0 = float(zero)\n",
    "int_to_float_neg_8 = float(neg_8)\n",
    "int_to_float_neg_22 = float(neg_22)\n",
    "\n",
    "#Step 2: Converting to ints\n",
    "float_to_int_5 = int(int_to_float_5) \n",
    "float_to_int_0 = int(int_to_float_0)\n",
    "float_to_int_neg_8 = int(int_to_float_neg_8)\n",
    "float_to_int_neg_22 = int(int_to_float_neg_22)\n",
    "\n",
    "#Step 3: Printing the results\n",
    "print('Float Results: \\n')\n",
    "print(f'result: {int_to_float_5}, datatype: {type(int_to_float_5)}\\n')\n",
    "print(f'result: {int_to_float_0}, datatype: {type(int_to_float_0)} \\n')\n",
    "print(f'result: {int_to_float_neg_8}, datatype: {type(int_to_float_neg_8)} \\n')\n",
    "print(f'result: {int_to_float_neg_22}, datatype: {type(int_to_float_neg_22)} \\n')\n",
    "print('Int Results: \\n')\n",
    "print(f'result: {float_to_int_5}, datatype: {type(float_to_int_5)} \\n')\n",
    "print(f'result: {float_to_int_0}, datatype: {type(float_to_int_0)} \\n')\n",
    "print(f'result: {float_to_int_neg_8}, datatype: {type(float_to_int_neg_8)} \\n')\n",
    "print(f'result: {float_to_int_neg_22}, datatype: {type(float_to_int_neg_22)} \\n')\n"
   ]
  },
  {
   "cell_type": "markdown",
   "metadata": {
    "id": "EA-cYsPB7QU5"
   },
   "source": [
    "\n",
    "\n",
    "### P2.PY\n",
    "\n",
    "\n"
   ]
  },
  {
   "cell_type": "code",
   "execution_count": 43,
   "metadata": {
    "id": "cQHpSuFI7QU5"
   },
   "outputs": [],
   "source": [
    "\"\"\"\n",
    "Typcasting w. Strings\n",
    "\"\"\"\n",
    "\n",
    "# Convert these variables into strings and then back to their original data types. \n",
    "# Print out each result as well as its data type. \n",
    "# What do you notice about the last one?\n",
    "\n",
    "five = 5\n",
    "zero = 0\n",
    "neg_8 = -8\n",
    "T = True\n",
    "F = False"
   ]
  },
  {
   "cell_type": "code",
   "execution_count": 67,
   "metadata": {},
   "outputs": [
    {
     "name": "stdout",
     "output_type": "stream",
     "text": [
      "Original Results: <class 'int'>, <class 'int'>, <class 'int'>, <class 'bool'>, <class 'bool'>\n",
      "\n",
      "String Results: \n",
      "\n",
      "5 , <class 'str'>;\n",
      "0, <class 'str'>;\n",
      "-8, <class 'str'>;\n",
      "True, <class 'str'>;\n",
      "False, <class 'str'>\n",
      " \n",
      "Convert Back Results: \n",
      "\n",
      "5 , <class 'int'>;\n",
      "0, <class 'int'>;\n",
      "-8, <class 'int'>;\n",
      "True, <class 'bool'>;\n",
      "True, <class 'bool'>; \n"
     ]
    }
   ],
   "source": [
    "#Question 5 CM Response:\n",
    "\n",
    "#Step 1: Print out original types to confirm that they are ints and booleans \n",
    "print(f'Original Results: {type(five)}, {type(zero)}, {type(neg_8)}, {type(T)}, {type(F)}\\n')\n",
    "\n",
    "#Step 2: Convert to strings \n",
    "five_string = str(five)\n",
    "zero_string = str(zero)\n",
    "neg_8_string = str(neg_8)\n",
    "T_string = str(T)\n",
    "F_string = str(F)\n",
    "\n",
    "#Step 3: Print out results\n",
    "print(f'String Results: \\n\\n{five_string} , {type(five_string)};\\n{zero_string}, {type(zero_string)};\\n{neg_8_string}, {type(neg_8_string)};\\n{T_string}, {type(T_string)};\\n{F_string}, {type(F_string)}\\n ')\n",
    "\n",
    "#Step 4: Convert back to original types\n",
    "five_int = int(five_string)\n",
    "zero_int = int(zero_string)\n",
    "neg_8_int = int(neg_8_string)\n",
    "T_bool = bool(T_string)\n",
    "F_bool = bool(F_string)\n",
    "\n",
    "#Step 4:Print results\n",
    "print(f'Convert Back Results: \\n\\n{five_int} , {type(five_int)};\\n{zero_int}, {type(zero_int)};\\n{neg_8_int}, {type(neg_8_int)};\\n{T_bool}, {type(T_bool)};\\n{F_bool}, {type(F_bool)}; ')\n",
    "\n",
    "#Step 4\n",
    "#I notice that the last one was originally False and when you convert it back to a boolean it defaults to True \n"
   ]
  },
  {
   "cell_type": "markdown",
   "metadata": {
    "id": "KPYYhkcT7QU6"
   },
   "source": [
    "\n",
    "\n",
    "### P3.PY\n",
    "\n",
    "\n"
   ]
  },
  {
   "cell_type": "code",
   "execution_count": 93,
   "metadata": {
    "id": "NWIhStSc7QU6"
   },
   "outputs": [],
   "source": [
    "\"\"\"\n",
    "Booleans I - Typecasting w. Numbers\n",
    "\"\"\"\n",
    "\n",
    "# A) Use typecasting to turn these variables into boolean values. Print the result and the datatype of the result.\n",
    "\n",
    "one = 1\n",
    "zero = 0\n",
    "\n",
    "\n",
    "# B) Use typecasting to turn the resultant variables from part A into floats. Print the result and the datatype of the result.\n",
    "\n",
    "\n",
    "# C) Use typecasting to turn the resultant variables from part B back into booleans. Print the result and the datatype of the result.\n",
    "\n",
    "\n",
    "# C) Use typecasting to turn the resultant variables from part C into integers. Print the result and the datatype of the result.\n",
    "\n",
    "\n",
    "# E) Use typecasting to turn the variable below into a boolean value. Print the result and the datatype of the result.\n",
    "\n",
    "ten = 10\n",
    "\n"
   ]
  },
  {
   "cell_type": "code",
   "execution_count": 98,
   "metadata": {},
   "outputs": [
    {
     "name": "stdout",
     "output_type": "stream",
     "text": [
      "True, <class 'bool'>, False, <class 'bool'>\n",
      "\n",
      "1.0, <class 'float'>, 0.0, <class 'float'>\n",
      "\n",
      "1, <class 'int'>, 0, <class 'int'>\n",
      "\n",
      "True, <class 'bool'>\n"
     ]
    }
   ],
   "source": [
    "#Question 6 CM Response:\n",
    "\n",
    "#A: \n",
    "bool_one = bool(one)\n",
    "bool_zero = bool(zero)\n",
    "print(f'{bool_one}, {type(bool_one)}, {bool_zero}, {type(bool_zero)}\\n')\n",
    "\n",
    "#B: \n",
    "float_one = float(bool_one)\n",
    "float_zero = float(bool_zero)\n",
    "print(f'{float_one}, {type(float_one)}, {float_zero}, {type(float_zero)}\\n')\n",
    "\n",
    "#C: \n",
    "int_one = int(float_one)\n",
    "int_zero = int(float_zero)\n",
    "print(f'{int_one}, {type(int_one)}, {int_zero}, {type(int_zero)}\\n')\n",
    "\n",
    "#D: \n",
    "ten_bool = bool(ten)\n",
    "print(f'{ten_bool}, {type(ten_bool)}')\n",
    "\n",
    "\n",
    "\n"
   ]
  },
  {
   "cell_type": "markdown",
   "metadata": {
    "id": "H4b2-kYe7QU6"
   },
   "source": [
    "\n",
    "\n",
    "### P4.PY\n",
    "\n",
    "\n"
   ]
  },
  {
   "cell_type": "code",
   "execution_count": 99,
   "metadata": {
    "id": "4Vl6s-hJ7QU6"
   },
   "outputs": [],
   "source": [
    "\"\"\"\n",
    "Booleans II - Typecasting w. Strings\n",
    "\"\"\"\n",
    "\n",
    "# A) Use typecasting to turn these variables into boolean values. Print the result and the datatype of the result.\n",
    "\n",
    "one = 1\n",
    "zero = 0\n",
    "bool_true = True\n",
    "bool_false = False\n",
    "\n",
    "\n",
    "# B) Use typecasting to turn the latest values for variables 'one' and 'zero' back into integers. \n",
    "# Print the result and the datatype of the result.\n",
    "\n",
    "\n",
    "\n",
    "# C) Use typecasting to turn the latest values for variables 'bool_true' and 'bool_false' back into boolean values. \n",
    "# Print the result and the datatype of the result.\n",
    "\n",
    "\n",
    "\n",
    "\n"
   ]
  },
  {
   "cell_type": "code",
   "execution_count": null,
   "metadata": {},
   "outputs": [],
   "source": [
    "#Question 7 CM Response:\n",
    "\n",
    "# This question i think is wrong based on what the question is asking -- no strings and similar to the question above\n"
   ]
  },
  {
   "cell_type": "markdown",
   "metadata": {
    "id": "JUZI1-yC7QU6"
   },
   "source": [
    "\n",
    "\n",
    "## OPERATORS\n",
    "\n",
    "### P1.PY\n",
    "\n",
    "\n"
   ]
  },
  {
   "cell_type": "code",
   "execution_count": 86,
   "metadata": {
    "id": "VW6JDSrI7QU6"
   },
   "outputs": [],
   "source": [
    "\"\"\"\n",
    "Integer & Float Operators\n",
    "\"\"\"\n",
    "\n",
    "# Complete the specified math operations. Do the next operation on the result from the previous operation.\n",
    "\n",
    "orig_var = 100\n",
    "\n",
    "# Add 50\n",
    "\n",
    "# Subtract 90\n",
    "\n",
    "# Multiply 10\n",
    "\n",
    "# Divide 150\n",
    "\n",
    "# Modulus 3\n"
   ]
  },
  {
   "cell_type": "code",
   "execution_count": 92,
   "metadata": {},
   "outputs": [
    {
     "name": "stdout",
     "output_type": "stream",
     "text": [
      "Original Value: 100\n",
      "First Operation: 150\n",
      "Second Operation: 60\n",
      "Third Operation: 600\n",
      "Fourth Operation: 4.0\n",
      "Fifth Operation: 1.0\n"
     ]
    }
   ],
   "source": [
    "#Question 8 CM Response:\n",
    "orig_var = 100\n",
    "first_operation = orig_var + 50\n",
    "second_operation = first_operation - 90\n",
    "third_operation = second_operation * 10 \n",
    "fourth_operation = third_operation / 150 \n",
    "fifth_operation = fourth_operation// 3\n",
    "\n",
    "print(f'Original Value: {orig_var}\\nFirst Operation: {first_operation}\\nSecond Operation: {second_operation}\\nThird Operation: {third_operation}\\nFourth Operation: {fourth_operation}\\nFifth Operation: {fifth_operation}')\n"
   ]
  },
  {
   "cell_type": "markdown",
   "metadata": {
    "id": "b6UUBoFd7QU6"
   },
   "source": [
    "\n",
    "\n",
    "### P2.PY\n",
    "\n",
    "\n"
   ]
  },
  {
   "cell_type": "code",
   "execution_count": null,
   "metadata": {
    "id": "rrxUQge77QU6"
   },
   "outputs": [],
   "source": [
    "\"\"\"\n",
    "String Operators\n",
    "\"\"\"\n",
    "\n",
    "# Create two variables, each of which is half of a compound sentence. \n",
    "#Do NOT add any punctuation up front. Add the two variables together, and print the result.\n",
    "## Example compound sentence: \"I'll go to the beach today, and I'll go snorkeling.\""
   ]
  },
  {
   "cell_type": "code",
   "execution_count": 107,
   "metadata": {},
   "outputs": [
    {
     "name": "stdout",
     "output_type": "stream",
     "text": [
      "I will go to work in the morning, and I will attend class in the evening\n"
     ]
    }
   ],
   "source": [
    "#Question 9 CM Response:\n",
    "\n",
    "sent_1 = 'I will go to work in the morning'\n",
    "sent_2 = 'and I will attend class in the evening'\n",
    "print(f'{sent_1}, {sent_2}')"
   ]
  },
  {
   "cell_type": "markdown",
   "metadata": {
    "id": "cEeZcvkz7QU6"
   },
   "source": [
    "\n",
    "\n",
    "### P3.PY\n",
    "\n",
    "\n"
   ]
  },
  {
   "cell_type": "code",
   "execution_count": 84,
   "metadata": {
    "id": "fEKsEoZN7QU6"
   },
   "outputs": [],
   "source": [
    "\"\"\"\n",
    "Addition I - Numbers & Strings\n",
    "\"\"\"\n",
    "\n",
    "# Add the below sets of variables together.\n",
    "\n",
    "# A)\n",
    "a = 0\n",
    "b = 2\n",
    "\n",
    "\n",
    "\n",
    "# B)\n",
    "c = '0'\n",
    "d = '2'\n",
    "\n",
    "\n",
    "\n",
    "# C)\n",
    "e = \"0\"\n",
    "f = 2"
   ]
  },
  {
   "cell_type": "code",
   "execution_count": 85,
   "metadata": {},
   "outputs": [
    {
     "name": "stdout",
     "output_type": "stream",
     "text": [
      "2\n",
      "2\n",
      "2\n"
     ]
    }
   ],
   "source": [
    "#Question 10 CM Response\n",
    "\n",
    "#convert as necessary in order to make the addition \n",
    "q_a = a+b\n",
    "q_b = int(c)+int(d)\n",
    "q_c = int(e)+f\n",
    "print(q_a)\n",
    "print(q_b)\n",
    "print(q_c)"
   ]
  },
  {
   "cell_type": "markdown",
   "metadata": {
    "id": "skhiuYre7QU7"
   },
   "source": [
    "\n",
    "\n",
    "### P4.PY\n",
    "\n",
    "\n"
   ]
  },
  {
   "cell_type": "code",
   "execution_count": 82,
   "metadata": {
    "id": "Myex1ru47QU7"
   },
   "outputs": [],
   "source": [
    "\"\"\"\n",
    "Addition II - Booleans\n",
    "\"\"\"\n",
    "\n",
    "# Add the below sets of variables together.\n",
    "\n",
    "# A)\n",
    "a = True\n",
    "b = True\n",
    "\n",
    "\n",
    "\n",
    "# B)\n",
    "c = False\n",
    "d = False\n",
    "\n",
    "\n",
    "\n",
    "# C)\n",
    "e = True\n",
    "f = False"
   ]
  },
  {
   "cell_type": "code",
   "execution_count": 83,
   "metadata": {},
   "outputs": [
    {
     "name": "stdout",
     "output_type": "stream",
     "text": [
      "2\n",
      "0\n",
      "1\n"
     ]
    }
   ],
   "source": [
    "#Question 11 CM Response\n",
    "q_a = a+b\n",
    "q_b = c+d\n",
    "q_c = e+f\n",
    "print(q_a)\n",
    "print(q_b)\n",
    "print(q_c)"
   ]
  },
  {
   "cell_type": "markdown",
   "metadata": {
    "id": "KN5Ax7077QU7"
   },
   "source": [
    "\n"
   ]
  }
 ],
 "metadata": {
  "colab": {
   "provenance": []
  },
  "kernelspec": {
   "display_name": "Python 3 (ipykernel)",
   "language": "python",
   "name": "python3"
  },
  "language_info": {
   "codemirror_mode": {
    "name": "ipython",
    "version": 3
   },
   "file_extension": ".py",
   "mimetype": "text/x-python",
   "name": "python",
   "nbconvert_exporter": "python",
   "pygments_lexer": "ipython3",
   "version": "3.9.13"
  }
 },
 "nbformat": 4,
 "nbformat_minor": 1
}
