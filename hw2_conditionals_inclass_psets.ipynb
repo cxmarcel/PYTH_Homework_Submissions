{
 "cells": [
  {
   "cell_type": "markdown",
   "metadata": {
    "id": "Kz6Ok9UvecS4"
   },
   "source": [
    "<a href=\"https://colab.research.google.com/github/mottaquikarim/PYTH2/blob/master/src/PSETS/nb/conditionals_inclass_psets.ipynb\" target=\"_parent\"><img src=\"https://colab.research.google.com/assets/colab-badge.svg\" alt=\"Open In Colab\"/></a>"
   ]
  },
  {
   "cell_type": "markdown",
   "metadata": {
    "id": "nHHYEdwkecS5"
   },
   "source": [
    "#  CONDITIONALS\n",
    "\n",
    "## WEATHER\n",
    "\n",
    "### P1.PY\n",
    "\n",
    "\n"
   ]
  },
  {
   "cell_type": "code",
   "execution_count": 1,
   "metadata": {
    "id": "unG08BS4ecS5"
   },
   "outputs": [],
   "source": [
    "\"\"\"\n",
    "Question 1: Weather I - Do you need boots?\n",
    "\"\"\"\n",
    "\n",
    "# Use the values of the vars defined below to ouput the correct contextual answer to the questions below. \n",
    "#(Note: The variables themselves ARE the questions.)\n",
    "\n",
    "# Example:\n",
    "## am_i_hungry = False\n",
    "## am_i_tired = True\n",
    "## do_i_need_to_stay_awake = False\n",
    "\n",
    "## should_i_drink_coffee_now = am_i_tired and do_i_need_to_stay_awake\n",
    "\n",
    "## ^^ This ^^ evaluates to False. If you're tired and don't need to stay awake, you don't need to drink coffee!\n",
    "\n",
    "\n",
    "is_it_raining = True\n",
    "is_it_snowing = False\n",
    "\n",
    "\n",
    "do_i_need_snow_boots = None\n",
    "can_i_skip_snow_boots = None\n",
    "do_i_need_rain_boots = None\n",
    "can_i_skip_rain_boots = None"
   ]
  },
  {
   "cell_type": "code",
   "execution_count": 21,
   "metadata": {},
   "outputs": [
    {
     "name": "stdout",
     "output_type": "stream",
     "text": [
      "Do I need snow boots? False\n",
      "Can I skip snow boots? True\n",
      "Do I need rain boots? True\n",
      "Can I skip rain boots? False\n"
     ]
    }
   ],
   "source": [
    "#CM Answer to Question 1: \n",
    "\n",
    "do_i_need_snow_boots = is_it_snowing #this evaluates to false. you do not need snow boots because it is NOT snowing\n",
    "can_i_skip_snow_boots = (not is_it_snowing) #this evaluates to true. you don't need snow boots because it is not snowing\n",
    "do_i_need_rain_boots = is_it_raining #this evaluates to true. you do need rain boots because it IS raining \n",
    "can_i_skip_rain_boots = (not is_it_raining) #this evaluates to false because it IS raining \n",
    "\n",
    "#print the answers\n",
    "print(f'Do I need snow boots? {do_i_need_snow_boots}')\n",
    "print(f'Can I skip snow boots? {can_i_skip_snow_boots}')\n",
    "print(f'Do I need rain boots? {do_i_need_rain_boots}')\n",
    "print(f'Can I skip rain boots? {can_i_skip_rain_boots}')"
   ]
  },
  {
   "cell_type": "markdown",
   "metadata": {
    "id": "epyngwMaecS6"
   },
   "source": [
    "\n",
    "\n",
    "### P2.PY\n",
    "\n",
    "\n"
   ]
  },
  {
   "cell_type": "code",
   "execution_count": 13,
   "metadata": {
    "id": "FOggOhVXecS6"
   },
   "outputs": [],
   "source": [
    "\"\"\"\n",
    "Question 2: Weather II - Precipitation\n",
    "\"\"\"\n",
    "\n",
    "# Repeat the same process as p1, using this new set of variables.\n",
    "\n",
    "sunny = True\n",
    "raining = True\n",
    "snowing = False\n",
    "\n",
    "is_it_sunny = None\n",
    "is_there_precipitation = None\n",
    "is_it_sleeting = None\n",
    "is_there_rainbow = None"
   ]
  },
  {
   "cell_type": "code",
   "execution_count": 14,
   "metadata": {},
   "outputs": [
    {
     "name": "stdout",
     "output_type": "stream",
     "text": [
      "Is it sunny? True\n",
      "Is there precipitation? True\n",
      "Is it sleeting? False\n",
      "Is there a rainbow? True\n"
     ]
    }
   ],
   "source": [
    "#CM Answer to Question 2: \n",
    "\n",
    "is_it_sunny = sunny #this evaluates to true. it is sunny \n",
    "is_there_precipitation = (raining or snowing) # this evaluates to true because it is raining but not snowing so true or false = true \n",
    "is_it_sleeting = (raining and snowing) # this evaluates to false because sleet is when it rains and snows. true and false evaluates to false\n",
    "is_there_rainbow = (sunny and raining) # this evaluates to true because it is sunny and raining. true and true = true. \n",
    "\n",
    "#print answers\n",
    "print(f'Is it sunny? {is_it_sunny}')\n",
    "print(f'Is there precipitation? {is_there_precipitation}')\n",
    "print(f'Is it sleeting? {is_it_sleeting}')\n",
    "print(f'Is there a rainbow? {is_there_rainbow}')"
   ]
  },
  {
   "cell_type": "markdown",
   "metadata": {
    "id": "-UnvQwzlecS6"
   },
   "source": [
    "\n",
    "\n",
    "### P3.PY\n",
    "\n",
    "\n"
   ]
  },
  {
   "cell_type": "code",
   "execution_count": 15,
   "metadata": {
    "id": "qct9c7_iecS7"
   },
   "outputs": [],
   "source": [
    "\"\"\"\n",
    "Question 3: Weather III - Describe Conditions\n",
    "\"\"\"\n",
    "\n",
    "# Repeat the same process as p1, using this new set of variables.\n",
    "\n",
    "\n",
    "is_it_warm = True\n",
    "is_it_humid = True\n",
    "is_it_cold = False\n",
    "is_it_icy = False\n",
    "is_it_foggy = False\n",
    "is_it_windy = False\n",
    "is_it_overcast = True\n",
    "\n",
    "\n",
    "is_it_summer_weather = None\n",
    "is_rain_coming = None\n",
    "is_it_muggy = None\n",
    "do_i_need_coat = None\n",
    "\n"
   ]
  },
  {
   "cell_type": "code",
   "execution_count": 19,
   "metadata": {},
   "outputs": [
    {
     "name": "stdout",
     "output_type": "stream",
     "text": [
      "Is it summer weather? True\n",
      "Is rain coming? True\n",
      "Is it muggy? True\n",
      "Do I need a coat? False\n"
     ]
    }
   ],
   "source": [
    "#CM Answer to Question 3: \n",
    "\n",
    "is_it_summer_weather = (is_it_warm or is_it_humid) \n",
    "# this evaluates to true because it is warm OR humid and true or true = true \n",
    "\n",
    "is_rain_coming = ((is_it_humid or is_it_windy) and is_it_overcast) \n",
    "# this evaluates to true because humid or wind could indicate rain, but overcast is necessary with those two so: \n",
    "#(true or false) and true = true and true = true\n",
    "\n",
    "is_it_muggy = (is_it_warm and is_it_humid) \n",
    "# this evaluates to true. muggy needs to be warm and humid so this becomes true and true which = true \n",
    "\n",
    "do_i_need_coat = (is_it_cold or is_it_icy or is_it_windy) \n",
    "#this evaluates to false. you need a coat if its cold, icy or windy so false or false or false = false\n",
    "\n",
    "print(f'Is it summer weather? {is_it_summer_weather}')\n",
    "print(f'Is rain coming? {is_rain_coming}')\n",
    "print(f'Is it muggy? {is_it_muggy}')\n",
    "print(f'Do I need a coat? {do_i_need_coat}')"
   ]
  },
  {
   "cell_type": "markdown",
   "metadata": {
    "id": "qlyPiUbfecS7"
   },
   "source": [
    "\n",
    "\n",
    "## LOGIC\n",
    "\n",
    "### P1.PY\n",
    "\n",
    "\n"
   ]
  },
  {
   "cell_type": "code",
   "execution_count": 51,
   "metadata": {
    "id": "TbIqOyp1ecS7"
   },
   "outputs": [],
   "source": [
    "\"\"\"\n",
    "Question 1: Calculate Grade\n",
    "\"\"\"\n",
    "\n",
    "grade = 15  # expect this to be a number\n",
    "\n",
    "# write a program that will print the \"letter\"\n",
    "# equivalent of the grade, for example:\n",
    "# when grade = 90 # -> expect A\n",
    "# when grade = 80 # -> expect B\n",
    "# when grade = 70 # -> expect C\n",
    "# when grade = 60 # -> expect D\n",
    "# when grade = 54 # -> expect F\n",
    "# when grade = -10 # -> expect Error\n",
    "# when grade = 10000 # -> expect Error\n",
    "# when grade = \"lol skool sucks\" # -> expect Error\n"
   ]
  },
  {
   "cell_type": "code",
   "execution_count": 52,
   "metadata": {},
   "outputs": [
    {
     "name": "stdout",
     "output_type": "stream",
     "text": [
      "B\n"
     ]
    }
   ],
   "source": [
    "#CM Answer to Question 1: \n",
    "\n",
    "#need to use an if/else statement here. \n",
    "\n",
    "#Step 1: account for data type. if this is not an int then print out a statement \n",
    "if type(grade) != int:\n",
    "    print('Expect Error')\n",
    "#step 2: if it is an int, then we go through the different comparisons. \n",
    "#can't be greater than 100\n",
    "elif grade > 100:\n",
    "    print('Expect Error')\n",
    "elif grade >= 90:\n",
    "    print('A')\n",
    "elif grade <= 80:\n",
    "    print('B')\n",
    "elif grade <= 70: \n",
    "    print ('C')\n",
    "elif grade <= 60: \n",
    "    print('D')\n",
    "elif grade <= 54: \n",
    "    print ('F')\n",
    "#account for negative values being invalid\n",
    "elif grade < 0:\n",
    "    print ('Expect Error')    \n",
    "\n",
    "\n",
    "    \n"
   ]
  },
  {
   "cell_type": "markdown",
   "metadata": {
    "id": "4hUqae04ecS7"
   },
   "source": [
    "\n",
    "\n",
    "### P2.PY\n",
    "\n",
    "\n"
   ]
  },
  {
   "cell_type": "code",
   "execution_count": null,
   "metadata": {
    "id": "H4Puv_JeecS7"
   },
   "outputs": [],
   "source": [
    "\"\"\"\n",
    "Question 2: Sign of Product\n",
    "\"\"\"\n",
    "\n",
    "# Given three numbers, a, b, c, without multiplying, determine the sign of their product.\n",
    "\n",
    "# EXAMPLE: a = -5, b = 6, c = -4, print 1\n",
    "\n",
    "# EXAMPLE: a = 5, b = 6, c = -4, print -1\n"
   ]
  },
  {
   "cell_type": "code",
   "execution_count": 84,
   "metadata": {},
   "outputs": [
    {
     "name": "stdout",
     "output_type": "stream",
     "text": [
      "-1\n"
     ]
    }
   ],
   "source": [
    "#CM Answer to Question 2: \n",
    "\n",
    "# step 1: have 3 numbers stored as variables \n",
    "a = 5\n",
    "b = 6\n",
    "c = -4\n",
    "\n",
    "# step 2: convert those numbers into strings\n",
    "string_a = str(a)\n",
    "string_b = str(b)\n",
    "string_c = str(c)\n",
    "\n",
    "# step 3: put the first character of each string into a list. if it's a negative number, then you will obtain the \"-\"\n",
    "list_signs = [string_a[0], string_b[0], string_c[0]]\n",
    "\n",
    "#note: I could have also done steps 2 and 3 in one line: list_signs_2 = [str(a)[0], str(b)[0], str(c)[0]]\n",
    "#however, i think for readability it's fine to do it in separate steps so it's clear what i'm doing. \n",
    "\n",
    "#step 4: check how many negative signs are in the list \n",
    "num_of_negs = int(list_signs.count('-'))\n",
    "\n",
    "\n",
    "#step 5: use an if else statement that says if the number of negative signs is odd then print out -1. \n",
    "# else (meaning it's even) print out 1 \n",
    "if num_of_negs%2 != 0 :\n",
    "    print(-1)\n",
    "else: \n",
    "    print(1)\n",
    "\n"
   ]
  },
  {
   "cell_type": "markdown",
   "metadata": {
    "id": "vF6iuUkOecS7"
   },
   "source": [
    "\n",
    "\n",
    "### P3.PY\n",
    "\n",
    "\n"
   ]
  },
  {
   "cell_type": "code",
   "execution_count": null,
   "metadata": {
    "id": "ug6wxv8AecS7"
   },
   "outputs": [],
   "source": [
    "\"\"\"\n",
    "Question 3: Any Uppercase\n",
    "\"\"\"\n",
    "\n",
    "# Given a string str, determine if there are any uppercase values in it. \n",
    "#Use only conditional statements and string methods (you may have to look some up!)\n",
    "\n",
    "# EXAMPLE: str = \"teSt\", print True\n"
   ]
  },
  {
   "cell_type": "code",
   "execution_count": 19,
   "metadata": {},
   "outputs": [
    {
     "data": {
      "text/plain": [
       "True"
      ]
     },
     "execution_count": 19,
     "metadata": {},
     "output_type": "execute_result"
    }
   ],
   "source": [
    "#CM Answer to Question 3: \n",
    "#notes: I used Google to see what the best way to go about this was. I use regex a lot in SQL so I was familiar \n",
    "#with regex as a concept\n",
    "\n",
    "#Step 1: import regex library\n",
    "import re \n",
    "\n",
    "#Step 2: create a test string\n",
    "string_test = 'teSt'\n",
    "\n",
    "#Step 3: use the match functionality to see if there is a match with uppercase, which is denoted in regex speak as: \n",
    "#\\w*[A-Z]\\w*\n",
    "# w* means any word character\n",
    "# and [A-Z] means all the upper case letters between A and Z. \n",
    "# so this is essentially saying, do any of the characters in string_test match letters bw A-Z? \n",
    "upper_case_match = bool(re.match(r'\\w*[A-Z]\\w*', string_test))\n",
    "upper_case_match\n",
    "\n",
    "\n",
    "\n"
   ]
  },
  {
   "cell_type": "markdown",
   "metadata": {
    "id": "hWQWy0HfecS7"
   },
   "source": [
    "\n",
    "\n",
    "### P4.PY\n",
    "\n",
    "\n"
   ]
  },
  {
   "cell_type": "code",
   "execution_count": null,
   "metadata": {
    "id": "z3dZROTSecS7"
   },
   "outputs": [],
   "source": [
    "\"\"\"\n",
    "Question 4: Empty Strings\n",
    "\"\"\"\n",
    "\n",
    "# Given any empty string, of the form:\n",
    "\n",
    "# ''\n",
    "# ' '\n",
    "# '  '\n",
    "# any other num of spaces...\n",
    "\n",
    "# determine if the str is empty or not (print True or False). \n",
    "#Hint: You'll need to look up how to remove trailing spaces from a string.\n"
   ]
  },
  {
   "cell_type": "code",
   "execution_count": 26,
   "metadata": {},
   "outputs": [
    {
     "name": "stdout",
     "output_type": "stream",
     "text": [
      "False\n",
      "True\n",
      "True\n"
     ]
    }
   ],
   "source": [
    "#CM Answer to Question 4: \n",
    "#Step 1: create the various strings\n",
    "str1 = ''\n",
    "str2 = ' '\n",
    "str3 = '   '\n",
    "\n",
    "#Step 2: print out booleans for each string\n",
    "print(bool(str1))\n",
    "print(bool(str2))\n",
    "print(bool(str3))\n",
    "\n",
    "#Step 3: more of a note: I don't understand if I'm understanding the python question correctly. if the string is empty \n",
    "# then when i print the boolean it will be false. if it is not empty and has spaces it will print true.\n",
    "#i'm not having to remove trailing spaces so i dont think i understand the question fully...? "
   ]
  },
  {
   "cell_type": "markdown",
   "metadata": {
    "id": "AI2oGxhVecS8"
   },
   "source": [
    "\n",
    "\n",
    "### P5.PY\n",
    "\n",
    "\n"
   ]
  },
  {
   "cell_type": "code",
   "execution_count": null,
   "metadata": {
    "id": "r0YCiXbsecS8"
   },
   "outputs": [],
   "source": [
    "\"\"\"\n",
    "Question 5: truthTableEvaluator\n",
    "\"\"\"\n",
    "\n",
    "# Given the following inputs:\n",
    "\n",
    "\n",
    "# P = # True or False\n",
    "# Q = # True or False\n",
    "# op = # '^' (logical AND, conjunction)\n",
    "#      # OR, 'v' (logical OR, disjunction)\n",
    "#      # OR, '->' (logical conditional, implication)\n",
    "#      # OR, '<->' (biconditional)\n",
    "# determine the correct outcome.\n",
    "\n",
    "# https://medium.com/i-math/intro-to-truth-tables-boolean-algebra-73b331dd9b94\n"
   ]
  },
  {
   "cell_type": "code",
   "execution_count": 202,
   "metadata": {},
   "outputs": [],
   "source": [
    "#CM Question to #5: \n",
    "#I really am confused here about how to approach this question. I am not sure exactly what I'm being asked even after reading the article "
   ]
  },
  {
   "cell_type": "markdown",
   "metadata": {
    "id": "0PDwhAzoecS8"
   },
   "source": [
    "\n",
    "\n",
    "## RANDOM_NUMS\n",
    "\n",
    "### P1.PY\n",
    "\n",
    "\n"
   ]
  },
  {
   "cell_type": "code",
   "execution_count": null,
   "metadata": {
    "id": "aMFzCl0xecS8"
   },
   "outputs": [],
   "source": [
    "\"\"\"\n",
    "Question 1: Generate Traffic Light\n",
    "\"\"\"\n",
    "\n",
    "# import python random package\n",
    "\n",
    "\n",
    "# generates a random number from 1 to 3\n",
    "\n",
    "\n",
    "# if 1, print 'red'\n",
    "# if 2, print 'green',\n",
    "# if 3, print 'yellow'\n"
   ]
  },
  {
   "cell_type": "code",
   "execution_count": 201,
   "metadata": {},
   "outputs": [
    {
     "name": "stdout",
     "output_type": "stream",
     "text": [
      "1: red\n"
     ]
    }
   ],
   "source": [
    "#CM Answer to Question 1: \n",
    "\n",
    "#step 1: import random range from random in order to have #s from 1-3\n",
    "from random import randrange\n",
    "\n",
    "#step 2: create a variable that stores the number that comes out of the random number generator \n",
    "random_number = (randrange(1,4))\n",
    "#step 3: create an if else statement that says if the variable = # print out appropriate color\n",
    "if random_number == 1: \n",
    "    print(f'{random_number}: red')\n",
    "elif random_number == 2: \n",
    "    print(f'{random_number}: green')\n",
    "else: \n",
    "    print(f'{random_number}: yellow')\n"
   ]
  },
  {
   "cell_type": "markdown",
   "metadata": {
    "id": "__VUqIKhecS8"
   },
   "source": [
    "\n",
    "\n",
    "### P2.PY\n",
    "\n",
    "\n"
   ]
  },
  {
   "cell_type": "code",
   "execution_count": null,
   "metadata": {
    "id": "OCpM04fCecS8"
   },
   "outputs": [],
   "source": [
    "\"\"\"\n",
    "Question 2: Generate Phone Number w/Area Code\n",
    "\"\"\"\n",
    "\n",
    "# import python random package\n",
    "\n",
    "\n",
    "# generate a random phone number of the form:\n",
    "# 1-718-786-2825\n",
    "# This should be a string\n",
    "# Valid Area Codes are: 646, 718, 212\n",
    "# if phone number doesn't have [646, 718, 212]\n",
    "# as area code, pick one of the above at random\n"
   ]
  },
  {
   "cell_type": "code",
   "execution_count": 200,
   "metadata": {},
   "outputs": [
    {
     "name": "stdout",
     "output_type": "stream",
     "text": [
      "+1-646-952-4861\n"
     ]
    }
   ],
   "source": [
    "#CM Answer to Question 2: \n",
    "from random import randint as r\n",
    "\n",
    "#Step 1: select a random area code from the options given using the choice function in the random library \n",
    "area_code = random.choice([646,718,212])\n",
    "\n",
    "#Step 2: Select a random selection of 7 digits from 0-10 which means a number from 0-9 will be selected 7 times\n",
    "# this is put into a list \n",
    "phone_number = random.sample(range(0, 10), 7)\n",
    "\n",
    "#Step 3:Combine the area code and phone number by inserting the area code into the first element of the phone number list\n",
    "phone_number.insert(0, area_code)\n",
    "\n",
    "#Step 4: Final result: \n",
    "print(f'+1-{phone_number[0]}-{phone_number[1]}{phone_number[2]}{phone_number[3]}-{phone_number[4]}{phone_number[5]}{phone_number[6]}{phone_number[7]}')\n"
   ]
  },
  {
   "cell_type": "markdown",
   "metadata": {
    "id": "11TjIX2aecS8"
   },
   "source": [
    "\n"
   ]
  }
 ],
 "metadata": {
  "colab": {
   "provenance": []
  },
  "kernelspec": {
   "display_name": "Python 3 (ipykernel)",
   "language": "python",
   "name": "python3"
  },
  "language_info": {
   "codemirror_mode": {
    "name": "ipython",
    "version": 3
   },
   "file_extension": ".py",
   "mimetype": "text/x-python",
   "name": "python",
   "nbconvert_exporter": "python",
   "pygments_lexer": "ipython3",
   "version": "3.9.13"
  }
 },
 "nbformat": 4,
 "nbformat_minor": 1
}
